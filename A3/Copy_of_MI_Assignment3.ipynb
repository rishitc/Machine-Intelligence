{
  "nbformat": 4,
  "nbformat_minor": 0,
  "metadata": {
    "colab": {
      "name": "Copy of MI_Assignment3.ipynb",
      "provenance": [],
      "collapsed_sections": [],
      "toc_visible": true
    },
    "kernelspec": {
      "name": "python3",
      "display_name": "Python 3"
    }
  },
  "cells": [
    {
      "cell_type": "code",
      "metadata": {
        "id": "KKeRmzDytMta"
      },
      "source": [
        "import numpy as np\n",
        "import pandas as pd\n",
        "from sklearn.model_selection import train_test_split\n",
        "\n",
        "\n",
        "# from google.colab import files\n",
        "# uploaded = files.upload()"
      ],
      "execution_count": 46,
      "outputs": []
    },
    {
      "cell_type": "code",
      "metadata": {
        "id": "VDrsRGuYt6ug"
      },
      "source": [
        "df = pd.read_csv('LBW_Dataset.csv')"
      ],
      "execution_count": 47,
      "outputs": []
    },
    {
      "cell_type": "code",
      "metadata": {
        "id": "Pm4-M0sdvYIn",
        "outputId": "0cb47122-5cae-4496-a5a6-5d812d348ec2",
        "colab": {
          "base_uri": "https://localhost:8080/",
          "height": 419
        }
      },
      "source": [
        "df"
      ],
      "execution_count": 48,
      "outputs": [
        {
          "output_type": "execute_result",
          "data": {
            "text/html": [
              "<div>\n",
              "<style scoped>\n",
              "    .dataframe tbody tr th:only-of-type {\n",
              "        vertical-align: middle;\n",
              "    }\n",
              "\n",
              "    .dataframe tbody tr th {\n",
              "        vertical-align: top;\n",
              "    }\n",
              "\n",
              "    .dataframe thead th {\n",
              "        text-align: right;\n",
              "    }\n",
              "</style>\n",
              "<table border=\"1\" class=\"dataframe\">\n",
              "  <thead>\n",
              "    <tr style=\"text-align: right;\">\n",
              "      <th></th>\n",
              "      <th>Community</th>\n",
              "      <th>Age</th>\n",
              "      <th>Weight</th>\n",
              "      <th>Delivery phase</th>\n",
              "      <th>HB</th>\n",
              "      <th>IFA</th>\n",
              "      <th>BP</th>\n",
              "      <th>Education</th>\n",
              "      <th>Residence</th>\n",
              "      <th>Result</th>\n",
              "    </tr>\n",
              "  </thead>\n",
              "  <tbody>\n",
              "    <tr>\n",
              "      <th>0</th>\n",
              "      <td>1</td>\n",
              "      <td>21.0</td>\n",
              "      <td>42.0</td>\n",
              "      <td>1.0</td>\n",
              "      <td>9.2</td>\n",
              "      <td>1</td>\n",
              "      <td>1.375</td>\n",
              "      <td>5.0</td>\n",
              "      <td>1.0</td>\n",
              "      <td>0</td>\n",
              "    </tr>\n",
              "    <tr>\n",
              "      <th>1</th>\n",
              "      <td>1</td>\n",
              "      <td>21.0</td>\n",
              "      <td>NaN</td>\n",
              "      <td>1.0</td>\n",
              "      <td>8.8</td>\n",
              "      <td>1</td>\n",
              "      <td>1.500</td>\n",
              "      <td>5.0</td>\n",
              "      <td>1.0</td>\n",
              "      <td>0</td>\n",
              "    </tr>\n",
              "    <tr>\n",
              "      <th>2</th>\n",
              "      <td>1</td>\n",
              "      <td>21.0</td>\n",
              "      <td>NaN</td>\n",
              "      <td>1.0</td>\n",
              "      <td>9.2</td>\n",
              "      <td>1</td>\n",
              "      <td>2.125</td>\n",
              "      <td>5.0</td>\n",
              "      <td>1.0</td>\n",
              "      <td>0</td>\n",
              "    </tr>\n",
              "    <tr>\n",
              "      <th>3</th>\n",
              "      <td>1</td>\n",
              "      <td>21.0</td>\n",
              "      <td>NaN</td>\n",
              "      <td>1.0</td>\n",
              "      <td>8.0</td>\n",
              "      <td>1</td>\n",
              "      <td>1.375</td>\n",
              "      <td>5.0</td>\n",
              "      <td>1.0</td>\n",
              "      <td>0</td>\n",
              "    </tr>\n",
              "    <tr>\n",
              "      <th>4</th>\n",
              "      <td>1</td>\n",
              "      <td>24.0</td>\n",
              "      <td>33.0</td>\n",
              "      <td>1.0</td>\n",
              "      <td>9.3</td>\n",
              "      <td>1</td>\n",
              "      <td>1.571</td>\n",
              "      <td>5.0</td>\n",
              "      <td>1.0</td>\n",
              "      <td>0</td>\n",
              "    </tr>\n",
              "    <tr>\n",
              "      <th>...</th>\n",
              "      <td>...</td>\n",
              "      <td>...</td>\n",
              "      <td>...</td>\n",
              "      <td>...</td>\n",
              "      <td>...</td>\n",
              "      <td>...</td>\n",
              "      <td>...</td>\n",
              "      <td>...</td>\n",
              "      <td>...</td>\n",
              "      <td>...</td>\n",
              "    </tr>\n",
              "    <tr>\n",
              "      <th>91</th>\n",
              "      <td>3</td>\n",
              "      <td>21.0</td>\n",
              "      <td>55.0</td>\n",
              "      <td>1.0</td>\n",
              "      <td>9.0</td>\n",
              "      <td>0</td>\n",
              "      <td>1.375</td>\n",
              "      <td>5.0</td>\n",
              "      <td>1.0</td>\n",
              "      <td>1</td>\n",
              "    </tr>\n",
              "    <tr>\n",
              "      <th>92</th>\n",
              "      <td>3</td>\n",
              "      <td>24.0</td>\n",
              "      <td>39.0</td>\n",
              "      <td>2.0</td>\n",
              "      <td>8.4</td>\n",
              "      <td>0</td>\n",
              "      <td>1.500</td>\n",
              "      <td>5.0</td>\n",
              "      <td>1.0</td>\n",
              "      <td>1</td>\n",
              "    </tr>\n",
              "    <tr>\n",
              "      <th>93</th>\n",
              "      <td>3</td>\n",
              "      <td>NaN</td>\n",
              "      <td>50.0</td>\n",
              "      <td>NaN</td>\n",
              "      <td>NaN</td>\n",
              "      <td>0</td>\n",
              "      <td>1.375</td>\n",
              "      <td>NaN</td>\n",
              "      <td>1.0</td>\n",
              "      <td>1</td>\n",
              "    </tr>\n",
              "    <tr>\n",
              "      <th>94</th>\n",
              "      <td>1</td>\n",
              "      <td>NaN</td>\n",
              "      <td>38.0</td>\n",
              "      <td>NaN</td>\n",
              "      <td>NaN</td>\n",
              "      <td>0</td>\n",
              "      <td>NaN</td>\n",
              "      <td>5.0</td>\n",
              "      <td>1.0</td>\n",
              "      <td>1</td>\n",
              "    </tr>\n",
              "    <tr>\n",
              "      <th>95</th>\n",
              "      <td>3</td>\n",
              "      <td>21.0</td>\n",
              "      <td>50.0</td>\n",
              "      <td>1.0</td>\n",
              "      <td>9.0</td>\n",
              "      <td>1</td>\n",
              "      <td>1.375</td>\n",
              "      <td>5.0</td>\n",
              "      <td>1.0</td>\n",
              "      <td>1</td>\n",
              "    </tr>\n",
              "  </tbody>\n",
              "</table>\n",
              "<p>96 rows × 10 columns</p>\n",
              "</div>"
            ],
            "text/plain": [
              "    Community   Age  Weight  ...  Education  Residence  Result\n",
              "0           1  21.0    42.0  ...        5.0        1.0       0\n",
              "1           1  21.0     NaN  ...        5.0        1.0       0\n",
              "2           1  21.0     NaN  ...        5.0        1.0       0\n",
              "3           1  21.0     NaN  ...        5.0        1.0       0\n",
              "4           1  24.0    33.0  ...        5.0        1.0       0\n",
              "..        ...   ...     ...  ...        ...        ...     ...\n",
              "91          3  21.0    55.0  ...        5.0        1.0       1\n",
              "92          3  24.0    39.0  ...        5.0        1.0       1\n",
              "93          3   NaN    50.0  ...        NaN        1.0       1\n",
              "94          1   NaN    38.0  ...        5.0        1.0       1\n",
              "95          3  21.0    50.0  ...        5.0        1.0       1\n",
              "\n",
              "[96 rows x 10 columns]"
            ]
          },
          "metadata": {
            "tags": []
          },
          "execution_count": 48
        }
      ]
    },
    {
      "cell_type": "code",
      "metadata": {
        "id": "_AdrFGuExO6H",
        "outputId": "510393a3-b541-42b9-ec23-d9ab497a59a3",
        "colab": {
          "base_uri": "https://localhost:8080/"
        }
      },
      "source": [
        "number_of_null_values_per_col = df.isnull().sum(axis=0)\n",
        "\n",
        "number_of_null_values_per_col"
      ],
      "execution_count": 49,
      "outputs": [
        {
          "output_type": "execute_result",
          "data": {
            "text/plain": [
              "Community          0\n",
              "Age                7\n",
              "Weight            11\n",
              "Delivery phase     4\n",
              "HB                19\n",
              "IFA                0\n",
              "BP                15\n",
              "Education          3\n",
              "Residence          2\n",
              "Result             0\n",
              "dtype: int64"
            ]
          },
          "metadata": {
            "tags": []
          },
          "execution_count": 49
        }
      ]
    },
    {
      "cell_type": "code",
      "metadata": {
        "id": "40Jq8L6PNpwp",
        "outputId": "c1b64a8b-318f-413d-ff11-7b112c9f9e19",
        "colab": {
          "base_uri": "https://localhost:8080/"
        }
      },
      "source": [
        "# look at the # of missing points in the second, third, fourth and fifth columns\n",
        "number_of_null_values_per_col[1:5]"
      ],
      "execution_count": 50,
      "outputs": [
        {
          "output_type": "execute_result",
          "data": {
            "text/plain": [
              "Age                7\n",
              "Weight            11\n",
              "Delivery phase     4\n",
              "HB                19\n",
              "dtype: int64"
            ]
          },
          "metadata": {
            "tags": []
          },
          "execution_count": 50
        }
      ]
    },
    {
      "cell_type": "markdown",
      "metadata": {
        "id": "e3n9ESVcObYp"
      },
      "source": [
        "## How many cells of data points are missing?"
      ]
    },
    {
      "cell_type": "code",
      "metadata": {
        "id": "BxoLykhhOazf",
        "outputId": "61f72b1d-381f-41a0-d18c-089161150d52",
        "colab": {
          "base_uri": "https://localhost:8080/"
        }
      },
      "source": [
        "total_no_of_cells = np.product(df.shape)\n",
        "total_no_of_missing_cells = number_of_null_values_per_col.sum()\n",
        "\n",
        "percent_missing_cells = (total_no_of_missing_cells / total_no_of_cells)\n",
        "\n",
        "print(f\"Percentage of data cells that is missing is: {percent_missing_cells:.4%}\")"
      ],
      "execution_count": 51,
      "outputs": [
        {
          "output_type": "stream",
          "text": [
            "Percentage of data cells that is missing is: 6.3542%\n"
          ],
          "name": "stdout"
        }
      ]
    },
    {
      "cell_type": "markdown",
      "metadata": {
        "id": "4pI1MisyT6a6"
      },
      "source": [
        "## Which column has the most number of missing values?"
      ]
    },
    {
      "cell_type": "code",
      "metadata": {
        "id": "vd_PNLwyT5GV",
        "outputId": "1c172f02-57a4-4dae-f7fe-ed18a026b268",
        "colab": {
          "base_uri": "https://localhost:8080/"
        }
      },
      "source": [
        "print(number_of_null_values_per_col.idxmax(), number_of_null_values_per_col.max())"
      ],
      "execution_count": 52,
      "outputs": [
        {
          "output_type": "stream",
          "text": [
            "HB 19\n"
          ],
          "name": "stdout"
        }
      ]
    },
    {
      "cell_type": "code",
      "metadata": {
        "id": "LQ_Oq6hRxyJh"
      },
      "source": [
        "#Analyse each column and checkout diff things from here"
      ],
      "execution_count": 53,
      "outputs": []
    },
    {
      "cell_type": "code",
      "metadata": {
        "id": "KADJjrjGx2wu",
        "outputId": "64c70cb2-0df6-4a1c-fbd0-79b98bcfddea",
        "colab": {
          "base_uri": "https://localhost:8080/"
        }
      },
      "source": [
        "#Education - All 5 - Scam\n",
        "df[\"Education\"].fillna(5, inplace=True)\n",
        "df[\"Education\"].unique()"
      ],
      "execution_count": 54,
      "outputs": [
        {
          "output_type": "execute_result",
          "data": {
            "text/plain": [
              "array([5.])"
            ]
          },
          "metadata": {
            "tags": []
          },
          "execution_count": 54
        }
      ]
    },
    {
      "cell_type": "code",
      "metadata": {
        "id": "dppRJvFfylT1",
        "outputId": "6585b82a-4f2b-4937-9192-e16eb16f6b25",
        "colab": {
          "base_uri": "https://localhost:8080/"
        }
      },
      "source": [
        "#Residence - use mode to replace it\n",
        "df[\"Residence\"].fillna(df.Residence.mode()[0], inplace=True)\n",
        "df[\"Residence\"].unique()"
      ],
      "execution_count": 55,
      "outputs": [
        {
          "output_type": "execute_result",
          "data": {
            "text/plain": [
              "array([1., 2.])"
            ]
          },
          "metadata": {
            "tags": []
          },
          "execution_count": 55
        }
      ]
    },
    {
      "cell_type": "code",
      "metadata": {
        "id": "Unv6APTzzHRG",
        "outputId": "d78874cb-af09-4d45-846a-74ebb2159551",
        "colab": {
          "base_uri": "https://localhost:8080/"
        }
      },
      "source": [
        "#Delivery Phase - use mode to replace\n",
        "df[\"Delivery phase\"].fillna(df[\"Delivery phase\"].mode()[0], inplace=True)\n",
        "df[\"Delivery phase\"].unique()"
      ],
      "execution_count": 56,
      "outputs": [
        {
          "output_type": "execute_result",
          "data": {
            "text/plain": [
              "array([1., 2.])"
            ]
          },
          "metadata": {
            "tags": []
          },
          "execution_count": 56
        }
      ]
    },
    {
      "cell_type": "code",
      "metadata": {
        "id": "DJMOM-hZ4kza",
        "outputId": "ffe14ba3-b72d-4f3a-9769-c60c44f167fb",
        "colab": {
          "base_uri": "https://localhost:8080/",
          "height": 419
        }
      },
      "source": [
        "df.groupby('Result').transform('mean')"
      ],
      "execution_count": 57,
      "outputs": [
        {
          "output_type": "execute_result",
          "data": {
            "text/html": [
              "<div>\n",
              "<style scoped>\n",
              "    .dataframe tbody tr th:only-of-type {\n",
              "        vertical-align: middle;\n",
              "    }\n",
              "\n",
              "    .dataframe tbody tr th {\n",
              "        vertical-align: top;\n",
              "    }\n",
              "\n",
              "    .dataframe thead th {\n",
              "        text-align: right;\n",
              "    }\n",
              "</style>\n",
              "<table border=\"1\" class=\"dataframe\">\n",
              "  <thead>\n",
              "    <tr style=\"text-align: right;\">\n",
              "      <th></th>\n",
              "      <th>Community</th>\n",
              "      <th>Age</th>\n",
              "      <th>Weight</th>\n",
              "      <th>Delivery phase</th>\n",
              "      <th>HB</th>\n",
              "      <th>IFA</th>\n",
              "      <th>BP</th>\n",
              "      <th>Education</th>\n",
              "      <th>Residence</th>\n",
              "    </tr>\n",
              "  </thead>\n",
              "  <tbody>\n",
              "    <tr>\n",
              "      <th>0</th>\n",
              "      <td>2.083333</td>\n",
              "      <td>23.818182</td>\n",
              "      <td>36.000000</td>\n",
              "      <td>1.041667</td>\n",
              "      <td>9.093750</td>\n",
              "      <td>0.541667</td>\n",
              "      <td>1.775443</td>\n",
              "      <td>5.0</td>\n",
              "      <td>1.083333</td>\n",
              "    </tr>\n",
              "    <tr>\n",
              "      <th>1</th>\n",
              "      <td>2.083333</td>\n",
              "      <td>23.818182</td>\n",
              "      <td>36.000000</td>\n",
              "      <td>1.041667</td>\n",
              "      <td>9.093750</td>\n",
              "      <td>0.541667</td>\n",
              "      <td>1.775443</td>\n",
              "      <td>5.0</td>\n",
              "      <td>1.083333</td>\n",
              "    </tr>\n",
              "    <tr>\n",
              "      <th>2</th>\n",
              "      <td>2.083333</td>\n",
              "      <td>23.818182</td>\n",
              "      <td>36.000000</td>\n",
              "      <td>1.041667</td>\n",
              "      <td>9.093750</td>\n",
              "      <td>0.541667</td>\n",
              "      <td>1.775443</td>\n",
              "      <td>5.0</td>\n",
              "      <td>1.083333</td>\n",
              "    </tr>\n",
              "    <tr>\n",
              "      <th>3</th>\n",
              "      <td>2.083333</td>\n",
              "      <td>23.818182</td>\n",
              "      <td>36.000000</td>\n",
              "      <td>1.041667</td>\n",
              "      <td>9.093750</td>\n",
              "      <td>0.541667</td>\n",
              "      <td>1.775443</td>\n",
              "      <td>5.0</td>\n",
              "      <td>1.083333</td>\n",
              "    </tr>\n",
              "    <tr>\n",
              "      <th>4</th>\n",
              "      <td>2.083333</td>\n",
              "      <td>23.818182</td>\n",
              "      <td>36.000000</td>\n",
              "      <td>1.041667</td>\n",
              "      <td>9.093750</td>\n",
              "      <td>0.541667</td>\n",
              "      <td>1.775443</td>\n",
              "      <td>5.0</td>\n",
              "      <td>1.083333</td>\n",
              "    </tr>\n",
              "    <tr>\n",
              "      <th>...</th>\n",
              "      <td>...</td>\n",
              "      <td>...</td>\n",
              "      <td>...</td>\n",
              "      <td>...</td>\n",
              "      <td>...</td>\n",
              "      <td>...</td>\n",
              "      <td>...</td>\n",
              "      <td>...</td>\n",
              "      <td>...</td>\n",
              "    </tr>\n",
              "    <tr>\n",
              "      <th>91</th>\n",
              "      <td>2.208333</td>\n",
              "      <td>23.731343</td>\n",
              "      <td>46.777778</td>\n",
              "      <td>1.013889</td>\n",
              "      <td>9.072131</td>\n",
              "      <td>0.736111</td>\n",
              "      <td>1.711841</td>\n",
              "      <td>5.0</td>\n",
              "      <td>1.152778</td>\n",
              "    </tr>\n",
              "    <tr>\n",
              "      <th>92</th>\n",
              "      <td>2.208333</td>\n",
              "      <td>23.731343</td>\n",
              "      <td>46.777778</td>\n",
              "      <td>1.013889</td>\n",
              "      <td>9.072131</td>\n",
              "      <td>0.736111</td>\n",
              "      <td>1.711841</td>\n",
              "      <td>5.0</td>\n",
              "      <td>1.152778</td>\n",
              "    </tr>\n",
              "    <tr>\n",
              "      <th>93</th>\n",
              "      <td>2.208333</td>\n",
              "      <td>23.731343</td>\n",
              "      <td>46.777778</td>\n",
              "      <td>1.013889</td>\n",
              "      <td>9.072131</td>\n",
              "      <td>0.736111</td>\n",
              "      <td>1.711841</td>\n",
              "      <td>5.0</td>\n",
              "      <td>1.152778</td>\n",
              "    </tr>\n",
              "    <tr>\n",
              "      <th>94</th>\n",
              "      <td>2.208333</td>\n",
              "      <td>23.731343</td>\n",
              "      <td>46.777778</td>\n",
              "      <td>1.013889</td>\n",
              "      <td>9.072131</td>\n",
              "      <td>0.736111</td>\n",
              "      <td>1.711841</td>\n",
              "      <td>5.0</td>\n",
              "      <td>1.152778</td>\n",
              "    </tr>\n",
              "    <tr>\n",
              "      <th>95</th>\n",
              "      <td>2.208333</td>\n",
              "      <td>23.731343</td>\n",
              "      <td>46.777778</td>\n",
              "      <td>1.013889</td>\n",
              "      <td>9.072131</td>\n",
              "      <td>0.736111</td>\n",
              "      <td>1.711841</td>\n",
              "      <td>5.0</td>\n",
              "      <td>1.152778</td>\n",
              "    </tr>\n",
              "  </tbody>\n",
              "</table>\n",
              "<p>96 rows × 9 columns</p>\n",
              "</div>"
            ],
            "text/plain": [
              "    Community        Age     Weight  ...        BP  Education  Residence\n",
              "0    2.083333  23.818182  36.000000  ...  1.775443        5.0   1.083333\n",
              "1    2.083333  23.818182  36.000000  ...  1.775443        5.0   1.083333\n",
              "2    2.083333  23.818182  36.000000  ...  1.775443        5.0   1.083333\n",
              "3    2.083333  23.818182  36.000000  ...  1.775443        5.0   1.083333\n",
              "4    2.083333  23.818182  36.000000  ...  1.775443        5.0   1.083333\n",
              "..        ...        ...        ...  ...       ...        ...        ...\n",
              "91   2.208333  23.731343  46.777778  ...  1.711841        5.0   1.152778\n",
              "92   2.208333  23.731343  46.777778  ...  1.711841        5.0   1.152778\n",
              "93   2.208333  23.731343  46.777778  ...  1.711841        5.0   1.152778\n",
              "94   2.208333  23.731343  46.777778  ...  1.711841        5.0   1.152778\n",
              "95   2.208333  23.731343  46.777778  ...  1.711841        5.0   1.152778\n",
              "\n",
              "[96 rows x 9 columns]"
            ]
          },
          "metadata": {
            "tags": []
          },
          "execution_count": 57
        }
      ]
    },
    {
      "cell_type": "code",
      "metadata": {
        "id": "5Oz85SxC-IsO"
      },
      "source": [
        "#Use Mean-By-Output-Class for \"Weight, Age, HB, BP\"\n",
        "df = df.fillna(df.groupby('Result').transform('mean')) "
      ],
      "execution_count": 58,
      "outputs": []
    },
    {
      "cell_type": "code",
      "metadata": {
        "id": "8pbrTP_WN8ul",
        "outputId": "6e7b9705-6d27-45a3-e810-65b9f90235b5",
        "colab": {
          "base_uri": "https://localhost:8080/"
        }
      },
      "source": [
        "#Check Weight\n",
        "df[\"Weight\"].unique()"
      ],
      "execution_count": 59,
      "outputs": [
        {
          "output_type": "execute_result",
          "data": {
            "text/plain": [
              "array([42., 36., 33., 35., 31., 30., 38., 32., 39., 45., 40., 49., 48.,\n",
              "       60., 37., 50., 65., 55., 43., 64., 52., 54., 46., 62., 41., 51.,\n",
              "       44., 56., 63.])"
            ]
          },
          "metadata": {
            "tags": []
          },
          "execution_count": 59
        }
      ]
    },
    {
      "cell_type": "code",
      "metadata": {
        "id": "EgxQjh97OBGg",
        "outputId": "463e7558-fbca-48bf-81bc-d304489f77c9",
        "colab": {
          "base_uri": "https://localhost:8080/"
        }
      },
      "source": [
        "#Check Age\n",
        "df[\"Age\"].unique()"
      ],
      "execution_count": 60,
      "outputs": [
        {
          "output_type": "execute_result",
          "data": {
            "text/plain": [
              "array([21.        , 24.        , 26.        , 22.        , 17.        ,\n",
              "       35.        , 20.        , 38.        , 23.        , 25.        ,\n",
              "       23.81818182, 27.        , 23.73134328, 28.        , 18.        ,\n",
              "       29.        ])"
            ]
          },
          "metadata": {
            "tags": []
          },
          "execution_count": 60
        }
      ]
    },
    {
      "cell_type": "code",
      "metadata": {
        "id": "9-_iDcHpOH3w",
        "outputId": "ba14c486-6fc9-48b1-e4e1-1ab31215a584",
        "colab": {
          "base_uri": "https://localhost:8080/"
        }
      },
      "source": [
        "#Cheeck HB\n",
        "df[\"HB\"].unique()"
      ],
      "execution_count": 61,
      "outputs": [
        {
          "output_type": "execute_result",
          "data": {
            "text/plain": [
              "array([ 9.2       ,  8.8       ,  8.        ,  9.3       ,  9.09375   ,\n",
              "        9.        ,  9.9       , 10.        ,  8.9       ,  9.6       ,\n",
              "        9.4       ,  8.7       ,  9.5       ,  9.07213115,  9.1       ,\n",
              "        8.4       ,  6.2       , 10.9       ,  7.9       , 10.8       ,\n",
              "       10.2       , 10.4       , 11.        ,  5.9       ])"
            ]
          },
          "metadata": {
            "tags": []
          },
          "execution_count": 61
        }
      ]
    },
    {
      "cell_type": "code",
      "metadata": {
        "id": "4hIS7yPHOJhS",
        "outputId": "33a54eb8-8669-46d6-893b-9e88b4371c1f",
        "colab": {
          "base_uri": "https://localhost:8080/"
        }
      },
      "source": [
        "#Check BP\n",
        "df[\"BP\"].unique()"
      ],
      "execution_count": 62,
      "outputs": [
        {
          "output_type": "execute_result",
          "data": {
            "text/plain": [
              "array([ 1.375     ,  1.5       ,  2.125     ,  1.571     ,  1.57142857,\n",
              "        1.625     ,  1.77544344,  1.71428571,  1.2       ,  5.5       ,\n",
              "        1.66153846,  1.33333333,  1.333     ,  1.714     ,  1.666     ,\n",
              "        1.83333333,  1.66666667,  2.5       , 13.875     ,  1.22222222,\n",
              "        1.42857143,  1.71184053])"
            ]
          },
          "metadata": {
            "tags": []
          },
          "execution_count": 62
        }
      ]
    },
    {
      "cell_type": "code",
      "metadata": {
        "id": "NrArKzfYzKsI",
        "outputId": "cf686710-a68a-4c68-8af8-6a0dd6026563",
        "colab": {
          "base_uri": "https://localhost:8080/"
        }
      },
      "source": [
        "df.isnull().sum(axis = 0)"
      ],
      "execution_count": 63,
      "outputs": [
        {
          "output_type": "execute_result",
          "data": {
            "text/plain": [
              "Community         0\n",
              "Age               0\n",
              "Weight            0\n",
              "Delivery phase    0\n",
              "HB                0\n",
              "IFA               0\n",
              "BP                0\n",
              "Education         0\n",
              "Residence         0\n",
              "Result            0\n",
              "dtype: int64"
            ]
          },
          "metadata": {
            "tags": []
          },
          "execution_count": 63
        }
      ]
    },
    {
      "cell_type": "code",
      "metadata": {
        "id": "eNEZeRnSrnam",
        "outputId": "2aff7ea7-288c-4045-bfe5-7dce5eb2a6df",
        "colab": {
          "base_uri": "https://localhost:8080/",
          "height": 419
        }
      },
      "source": [
        "df"
      ],
      "execution_count": 64,
      "outputs": [
        {
          "output_type": "execute_result",
          "data": {
            "text/html": [
              "<div>\n",
              "<style scoped>\n",
              "    .dataframe tbody tr th:only-of-type {\n",
              "        vertical-align: middle;\n",
              "    }\n",
              "\n",
              "    .dataframe tbody tr th {\n",
              "        vertical-align: top;\n",
              "    }\n",
              "\n",
              "    .dataframe thead th {\n",
              "        text-align: right;\n",
              "    }\n",
              "</style>\n",
              "<table border=\"1\" class=\"dataframe\">\n",
              "  <thead>\n",
              "    <tr style=\"text-align: right;\">\n",
              "      <th></th>\n",
              "      <th>Community</th>\n",
              "      <th>Age</th>\n",
              "      <th>Weight</th>\n",
              "      <th>Delivery phase</th>\n",
              "      <th>HB</th>\n",
              "      <th>IFA</th>\n",
              "      <th>BP</th>\n",
              "      <th>Education</th>\n",
              "      <th>Residence</th>\n",
              "      <th>Result</th>\n",
              "    </tr>\n",
              "  </thead>\n",
              "  <tbody>\n",
              "    <tr>\n",
              "      <th>0</th>\n",
              "      <td>1</td>\n",
              "      <td>21.000000</td>\n",
              "      <td>42.0</td>\n",
              "      <td>1.0</td>\n",
              "      <td>9.200000</td>\n",
              "      <td>1</td>\n",
              "      <td>1.375000</td>\n",
              "      <td>5.0</td>\n",
              "      <td>1.0</td>\n",
              "      <td>0</td>\n",
              "    </tr>\n",
              "    <tr>\n",
              "      <th>1</th>\n",
              "      <td>1</td>\n",
              "      <td>21.000000</td>\n",
              "      <td>36.0</td>\n",
              "      <td>1.0</td>\n",
              "      <td>8.800000</td>\n",
              "      <td>1</td>\n",
              "      <td>1.500000</td>\n",
              "      <td>5.0</td>\n",
              "      <td>1.0</td>\n",
              "      <td>0</td>\n",
              "    </tr>\n",
              "    <tr>\n",
              "      <th>2</th>\n",
              "      <td>1</td>\n",
              "      <td>21.000000</td>\n",
              "      <td>36.0</td>\n",
              "      <td>1.0</td>\n",
              "      <td>9.200000</td>\n",
              "      <td>1</td>\n",
              "      <td>2.125000</td>\n",
              "      <td>5.0</td>\n",
              "      <td>1.0</td>\n",
              "      <td>0</td>\n",
              "    </tr>\n",
              "    <tr>\n",
              "      <th>3</th>\n",
              "      <td>1</td>\n",
              "      <td>21.000000</td>\n",
              "      <td>36.0</td>\n",
              "      <td>1.0</td>\n",
              "      <td>8.000000</td>\n",
              "      <td>1</td>\n",
              "      <td>1.375000</td>\n",
              "      <td>5.0</td>\n",
              "      <td>1.0</td>\n",
              "      <td>0</td>\n",
              "    </tr>\n",
              "    <tr>\n",
              "      <th>4</th>\n",
              "      <td>1</td>\n",
              "      <td>24.000000</td>\n",
              "      <td>33.0</td>\n",
              "      <td>1.0</td>\n",
              "      <td>9.300000</td>\n",
              "      <td>1</td>\n",
              "      <td>1.571000</td>\n",
              "      <td>5.0</td>\n",
              "      <td>1.0</td>\n",
              "      <td>0</td>\n",
              "    </tr>\n",
              "    <tr>\n",
              "      <th>...</th>\n",
              "      <td>...</td>\n",
              "      <td>...</td>\n",
              "      <td>...</td>\n",
              "      <td>...</td>\n",
              "      <td>...</td>\n",
              "      <td>...</td>\n",
              "      <td>...</td>\n",
              "      <td>...</td>\n",
              "      <td>...</td>\n",
              "      <td>...</td>\n",
              "    </tr>\n",
              "    <tr>\n",
              "      <th>91</th>\n",
              "      <td>3</td>\n",
              "      <td>21.000000</td>\n",
              "      <td>55.0</td>\n",
              "      <td>1.0</td>\n",
              "      <td>9.000000</td>\n",
              "      <td>0</td>\n",
              "      <td>1.375000</td>\n",
              "      <td>5.0</td>\n",
              "      <td>1.0</td>\n",
              "      <td>1</td>\n",
              "    </tr>\n",
              "    <tr>\n",
              "      <th>92</th>\n",
              "      <td>3</td>\n",
              "      <td>24.000000</td>\n",
              "      <td>39.0</td>\n",
              "      <td>2.0</td>\n",
              "      <td>8.400000</td>\n",
              "      <td>0</td>\n",
              "      <td>1.500000</td>\n",
              "      <td>5.0</td>\n",
              "      <td>1.0</td>\n",
              "      <td>1</td>\n",
              "    </tr>\n",
              "    <tr>\n",
              "      <th>93</th>\n",
              "      <td>3</td>\n",
              "      <td>23.731343</td>\n",
              "      <td>50.0</td>\n",
              "      <td>1.0</td>\n",
              "      <td>9.072131</td>\n",
              "      <td>0</td>\n",
              "      <td>1.375000</td>\n",
              "      <td>5.0</td>\n",
              "      <td>1.0</td>\n",
              "      <td>1</td>\n",
              "    </tr>\n",
              "    <tr>\n",
              "      <th>94</th>\n",
              "      <td>1</td>\n",
              "      <td>23.731343</td>\n",
              "      <td>38.0</td>\n",
              "      <td>1.0</td>\n",
              "      <td>9.072131</td>\n",
              "      <td>0</td>\n",
              "      <td>1.711841</td>\n",
              "      <td>5.0</td>\n",
              "      <td>1.0</td>\n",
              "      <td>1</td>\n",
              "    </tr>\n",
              "    <tr>\n",
              "      <th>95</th>\n",
              "      <td>3</td>\n",
              "      <td>21.000000</td>\n",
              "      <td>50.0</td>\n",
              "      <td>1.0</td>\n",
              "      <td>9.000000</td>\n",
              "      <td>1</td>\n",
              "      <td>1.375000</td>\n",
              "      <td>5.0</td>\n",
              "      <td>1.0</td>\n",
              "      <td>1</td>\n",
              "    </tr>\n",
              "  </tbody>\n",
              "</table>\n",
              "<p>96 rows × 10 columns</p>\n",
              "</div>"
            ],
            "text/plain": [
              "    Community        Age  Weight  ...  Education  Residence  Result\n",
              "0           1  21.000000    42.0  ...        5.0        1.0       0\n",
              "1           1  21.000000    36.0  ...        5.0        1.0       0\n",
              "2           1  21.000000    36.0  ...        5.0        1.0       0\n",
              "3           1  21.000000    36.0  ...        5.0        1.0       0\n",
              "4           1  24.000000    33.0  ...        5.0        1.0       0\n",
              "..        ...        ...     ...  ...        ...        ...     ...\n",
              "91          3  21.000000    55.0  ...        5.0        1.0       1\n",
              "92          3  24.000000    39.0  ...        5.0        1.0       1\n",
              "93          3  23.731343    50.0  ...        5.0        1.0       1\n",
              "94          1  23.731343    38.0  ...        5.0        1.0       1\n",
              "95          3  21.000000    50.0  ...        5.0        1.0       1\n",
              "\n",
              "[96 rows x 10 columns]"
            ]
          },
          "metadata": {
            "tags": []
          },
          "execution_count": 64
        }
      ]
    },
    {
      "cell_type": "code",
      "metadata": {
        "id": "jYjf-hba09EY"
      },
      "source": [
        "def get_entropy_of_dataset(df):\n",
        "    # gets the target column\n",
        "    target = df.loc[:, df.columns[-1]]\n",
        "    unique_values = target.unique().tolist()\n",
        "\n",
        "    # number of unique values\n",
        "    uniq = len(unique_values)\n",
        "\n",
        "    target = target.tolist()\n",
        "    vals = []\n",
        "    for i in range(uniq):\n",
        "        vals.append(target.count(unique_values[i]))\n",
        "    summ = sum(vals)\n",
        "    entropy = 0\n",
        "    for i in range(uniq):\n",
        "        entropy += (-1)*(vals[i]/summ)*(np.log2(vals[i]/summ))\n",
        "    return entropy"
      ],
      "execution_count": 65,
      "outputs": []
    },
    {
      "cell_type": "code",
      "metadata": {
        "id": "eZp6SI89VhVG"
      },
      "source": [
        "def entropyFormula(answerDict):\n",
        "    valueOfAttribute_entropy = {}\n",
        "\n",
        "    for value in answerDict:\n",
        "        temp = answerDict[value].values()\n",
        "        denominator = sum(temp)\n",
        "        entropy = 0\n",
        "\n",
        "        for count in temp:\n",
        "            if (count != 0):\n",
        "                entropy += -(count/denominator) * np.log2(count/denominator)\n",
        "\n",
        "        valueOfAttribute_entropy[value] = entropy\n",
        "\n",
        "    return valueOfAttribute_entropy"
      ],
      "execution_count": 66,
      "outputs": []
    },
    {
      "cell_type": "code",
      "metadata": {
        "id": "2pKjCqNUWQhy"
      },
      "source": [
        "def avgInformationEntropy(answerDict, valueOfAttribute_entropy,\n",
        "                          totalNumberOfSamples):\n",
        "    answer = 0\n",
        "    for valueOfAttribute in answerDict:\n",
        "        numerator = sum(answerDict[valueOfAttribute].values())\n",
        "        answer += numerator / totalNumberOfSamples * \\\n",
        "            valueOfAttribute_entropy[valueOfAttribute]\n",
        "\n",
        "    return answer"
      ],
      "execution_count": 67,
      "outputs": []
    },
    {
      "cell_type": "code",
      "metadata": {
        "id": "kE24ci0xWTPU"
      },
      "source": [
        "def get_entropy_of_attribute(df, attribute):\n",
        "    entropy_of_attribute = 0\n",
        "\n",
        "    if attribute not in df.columns.tolist():\n",
        "        return entropy_of_attribute\n",
        "\n",
        "    # Get the name of the target attribute column\n",
        "    TARGET_ATTRIBUTE = df.columns.tolist()[-1]\n",
        "\n",
        "    # Get the list of unique values the attribute can take\n",
        "    valuesOfAttribute = df[attribute].unique().tolist()\n",
        "\n",
        "    # Get the list of unique values the TARGET_ATTRIBUTE can take\n",
        "    valuesOfTargetAttribute = df[TARGET_ATTRIBUTE].unique().tolist()\n",
        "\n",
        "    # Create a dictionary containing the values of attribute as keys\n",
        "    # and the values as the outcome:no_of_occurrences\n",
        "    # E.g.:\n",
        "    # {\n",
        "    # \t'val1': {'a':1, 'b':0},\n",
        "    # \t'val2': {'a':0, 'b':2}\n",
        "    # }\n",
        "    answerDict = {}\n",
        "    for value in valuesOfAttribute:\n",
        "        answerDict[value] = dict.fromkeys(valuesOfTargetAttribute, 0)\n",
        "\n",
        "    # print(answerDict)\n",
        "\n",
        "    # Create a dictionary to hold the unique attribute value with the\n",
        "    # corresponding df as key-value pairs\n",
        "    valuesOfAttribute_Dataframe = {}\n",
        "\n",
        "    # Fill in the values in to the: valuesOfAttribute_Dataframe, dictionary\n",
        "    for value in valuesOfAttribute:\n",
        "        valuesOfAttribute_Dataframe[value] = df.loc[df[attribute] == value]\n",
        "\n",
        "    # For each dataframe\n",
        "    for valueOfAttribute in valuesOfAttribute_Dataframe:\n",
        "        dataframe = valuesOfAttribute_Dataframe[valueOfAttribute]\n",
        "\n",
        "        for valueOfTargetAttribute in valuesOfTargetAttribute:\n",
        "            # Find to the count of different entries in the target attribute\n",
        "            temp = dataframe.loc[dataframe[TARGET_ATTRIBUTE] ==\n",
        "                                 valueOfTargetAttribute] \\\n",
        "                .count().tolist()[-1]\n",
        "\n",
        "            answerDict[valueOfAttribute][valueOfTargetAttribute] = temp\n",
        "\n",
        "    # print(answerDict)\n",
        "\n",
        "    # Use the entropy formula and get the entropy of all the attribute\n",
        "    # value pairs and take the sum\n",
        "    valueOfAttribute_entropy = entropyFormula(answerDict)\n",
        "    entropy_of_attribute = avgInformationEntropy(answerDict,\n",
        "                                                 valueOfAttribute_entropy,\n",
        "                                                 df.shape[0])\n",
        "\n",
        "    # 3. Return the sum\n",
        "    return abs(entropy_of_attribute)"
      ],
      "execution_count": 68,
      "outputs": []
    },
    {
      "cell_type": "code",
      "metadata": {
        "id": "xE1-GJyBWXz_"
      },
      "source": [
        "def get_information_gain(df, attribute):\n",
        "    return abs(get_entropy_of_dataset(df) - get_entropy_of_attribute(df, attribute))"
      ],
      "execution_count": 69,
      "outputs": []
    },
    {
      "cell_type": "code",
      "metadata": {
        "id": "Pe5W8WwlWaKM"
      },
      "source": [
        "#Find IG for each column\n",
        "information_gains = dict()\n",
        "for i in df.columns.tolist():\n",
        "  information_gains[i] = get_information_gain(df, i)"
      ],
      "execution_count": 70,
      "outputs": []
    },
    {
      "cell_type": "code",
      "metadata": {
        "id": "PkUGQJKKqEoM",
        "outputId": "a3d66a41-bd30-4167-f7a0-6a40527c4790",
        "colab": {
          "base_uri": "https://localhost:8080/"
        }
      },
      "source": [
        "get_entropy_of_dataset(df)"
      ],
      "execution_count": 71,
      "outputs": [
        {
          "output_type": "execute_result",
          "data": {
            "text/plain": [
              "0.8112781244591328"
            ]
          },
          "metadata": {
            "tags": []
          },
          "execution_count": 71
        }
      ]
    },
    {
      "cell_type": "code",
      "metadata": {
        "id": "tPfVPIYcXnFJ",
        "outputId": "778ad855-7dde-4341-fd89-b3c4e7936c7d",
        "colab": {
          "base_uri": "https://localhost:8080/"
        }
      },
      "source": [
        "information_gains"
      ],
      "execution_count": 72,
      "outputs": [
        {
          "output_type": "execute_result",
          "data": {
            "text/plain": [
              "{'Age': 0.14411172983242193,\n",
              " 'BP': 0.3664469842305207,\n",
              " 'Community': 0.0069157923437370705,\n",
              " 'Delivery phase': 0.004430399630443338,\n",
              " 'Education': 0.0,\n",
              " 'HB': 0.3385844780014577,\n",
              " 'IFA': 0.022873345732139616,\n",
              " 'Residence': 0.006093039758486074,\n",
              " 'Result': 0.8112781244591328,\n",
              " 'Weight': 0.5710535508362805}"
            ]
          },
          "metadata": {
            "tags": []
          },
          "execution_count": 72
        }
      ]
    },
    {
      "cell_type": "code",
      "metadata": {
        "id": "HIbtm4t9qsP_"
      },
      "source": [
        "assert information_gains['Result'] == get_entropy_of_dataset(df), \"Information Gain of the 'Result' Column must be equal to the entropy of the 'Result' Column\""
      ],
      "execution_count": 73,
      "outputs": []
    },
    {
      "cell_type": "code",
      "metadata": {
        "id": "Av08mWxkrJb3"
      },
      "source": [
        "assert information_gains['Education'] == 0.0, \"Information Gain of the 'Education' Column must be equal to 0 as it has only one type of value (i.e. 5.0) in the entire dataset\""
      ],
      "execution_count": 74,
      "outputs": []
    },
    {
      "cell_type": "code",
      "metadata": {
        "id": "NaowtaFrbOVj",
        "outputId": "a22f9d82-32af-4346-d758-9486f9cbbd3b",
        "colab": {
          "base_uri": "https://localhost:8080/"
        }
      },
      "source": [
        "max_IG = max(information_gains.values())\n",
        "for i in df.columns.tolist():\n",
        "  if(information_gains[i] < 0.3*max_IG):\n",
        "    print(f\"{i} column is dropped\")\n",
        "    del df[i]"
      ],
      "execution_count": 75,
      "outputs": [
        {
          "output_type": "stream",
          "text": [
            "Community column is dropped\n",
            "Age column is dropped\n",
            "Delivery phase column is dropped\n",
            "IFA column is dropped\n",
            "Education column is dropped\n",
            "Residence column is dropped\n"
          ],
          "name": "stdout"
        }
      ]
    },
    {
      "cell_type": "code",
      "metadata": {
        "id": "2FSb5HEGb1MX",
        "outputId": "2b1ad2ab-e9e5-4536-c7c9-11c194259e3c",
        "colab": {
          "base_uri": "https://localhost:8080/",
          "height": 419
        }
      },
      "source": [
        "df"
      ],
      "execution_count": 76,
      "outputs": [
        {
          "output_type": "execute_result",
          "data": {
            "text/html": [
              "<div>\n",
              "<style scoped>\n",
              "    .dataframe tbody tr th:only-of-type {\n",
              "        vertical-align: middle;\n",
              "    }\n",
              "\n",
              "    .dataframe tbody tr th {\n",
              "        vertical-align: top;\n",
              "    }\n",
              "\n",
              "    .dataframe thead th {\n",
              "        text-align: right;\n",
              "    }\n",
              "</style>\n",
              "<table border=\"1\" class=\"dataframe\">\n",
              "  <thead>\n",
              "    <tr style=\"text-align: right;\">\n",
              "      <th></th>\n",
              "      <th>Weight</th>\n",
              "      <th>HB</th>\n",
              "      <th>BP</th>\n",
              "      <th>Result</th>\n",
              "    </tr>\n",
              "  </thead>\n",
              "  <tbody>\n",
              "    <tr>\n",
              "      <th>0</th>\n",
              "      <td>42.0</td>\n",
              "      <td>9.200000</td>\n",
              "      <td>1.375000</td>\n",
              "      <td>0</td>\n",
              "    </tr>\n",
              "    <tr>\n",
              "      <th>1</th>\n",
              "      <td>36.0</td>\n",
              "      <td>8.800000</td>\n",
              "      <td>1.500000</td>\n",
              "      <td>0</td>\n",
              "    </tr>\n",
              "    <tr>\n",
              "      <th>2</th>\n",
              "      <td>36.0</td>\n",
              "      <td>9.200000</td>\n",
              "      <td>2.125000</td>\n",
              "      <td>0</td>\n",
              "    </tr>\n",
              "    <tr>\n",
              "      <th>3</th>\n",
              "      <td>36.0</td>\n",
              "      <td>8.000000</td>\n",
              "      <td>1.375000</td>\n",
              "      <td>0</td>\n",
              "    </tr>\n",
              "    <tr>\n",
              "      <th>4</th>\n",
              "      <td>33.0</td>\n",
              "      <td>9.300000</td>\n",
              "      <td>1.571000</td>\n",
              "      <td>0</td>\n",
              "    </tr>\n",
              "    <tr>\n",
              "      <th>...</th>\n",
              "      <td>...</td>\n",
              "      <td>...</td>\n",
              "      <td>...</td>\n",
              "      <td>...</td>\n",
              "    </tr>\n",
              "    <tr>\n",
              "      <th>91</th>\n",
              "      <td>55.0</td>\n",
              "      <td>9.000000</td>\n",
              "      <td>1.375000</td>\n",
              "      <td>1</td>\n",
              "    </tr>\n",
              "    <tr>\n",
              "      <th>92</th>\n",
              "      <td>39.0</td>\n",
              "      <td>8.400000</td>\n",
              "      <td>1.500000</td>\n",
              "      <td>1</td>\n",
              "    </tr>\n",
              "    <tr>\n",
              "      <th>93</th>\n",
              "      <td>50.0</td>\n",
              "      <td>9.072131</td>\n",
              "      <td>1.375000</td>\n",
              "      <td>1</td>\n",
              "    </tr>\n",
              "    <tr>\n",
              "      <th>94</th>\n",
              "      <td>38.0</td>\n",
              "      <td>9.072131</td>\n",
              "      <td>1.711841</td>\n",
              "      <td>1</td>\n",
              "    </tr>\n",
              "    <tr>\n",
              "      <th>95</th>\n",
              "      <td>50.0</td>\n",
              "      <td>9.000000</td>\n",
              "      <td>1.375000</td>\n",
              "      <td>1</td>\n",
              "    </tr>\n",
              "  </tbody>\n",
              "</table>\n",
              "<p>96 rows × 4 columns</p>\n",
              "</div>"
            ],
            "text/plain": [
              "    Weight        HB        BP  Result\n",
              "0     42.0  9.200000  1.375000       0\n",
              "1     36.0  8.800000  1.500000       0\n",
              "2     36.0  9.200000  2.125000       0\n",
              "3     36.0  8.000000  1.375000       0\n",
              "4     33.0  9.300000  1.571000       0\n",
              "..     ...       ...       ...     ...\n",
              "91    55.0  9.000000  1.375000       1\n",
              "92    39.0  8.400000  1.500000       1\n",
              "93    50.0  9.072131  1.375000       1\n",
              "94    38.0  9.072131  1.711841       1\n",
              "95    50.0  9.000000  1.375000       1\n",
              "\n",
              "[96 rows x 4 columns]"
            ]
          },
          "metadata": {
            "tags": []
          },
          "execution_count": 76
        }
      ]
    },
    {
      "cell_type": "code",
      "metadata": {
        "id": "_DN1PsFc53PG"
      },
      "source": [
        "cols = df.columns.to_list()"
      ],
      "execution_count": 77,
      "outputs": []
    },
    {
      "cell_type": "code",
      "metadata": {
        "id": "ReG76_yHb2O8",
        "outputId": "d4a68a68-6338-4fff-a04a-4c005bc94f1f",
        "colab": {
          "base_uri": "https://localhost:8080/"
        }
      },
      "source": [
        "# Create training, validation and test splits\n",
        "df_train = df.sample(frac=0.8, random_state=42)\n",
        "df_test = df.drop(df_train.index)\n",
        "\n",
        "df_valid = df_train.sample(frac=0.15, random_state=101)\n",
        "\n",
        "df_train = df_train.drop(df_valid.index)\n",
        "\n",
        "print(set(df_train.index).intersection(df_test.index))\n",
        "\n",
        "df_train.reset_index(drop=True, inplace=True)\n",
        "df_valid.reset_index(drop=True, inplace=True)\n",
        "df_test.reset_index(drop=True, inplace=True)"
      ],
      "execution_count": 78,
      "outputs": [
        {
          "output_type": "stream",
          "text": [
            "set()\n"
          ],
          "name": "stdout"
        }
      ]
    },
    {
      "cell_type": "code",
      "metadata": {
        "id": "I2T-2-fZ3EyH",
        "outputId": "6f5f1b80-ed1c-4f38-8088-81a5d302c727",
        "colab": {
          "base_uri": "https://localhost:8080/",
          "height": 49
        }
      },
      "source": [
        "# Sanity check to make sure that there is no row that is in more than one dataframe\n",
        "df_train.merge(df_valid, how='inner', on=df.columns.to_list())"
      ],
      "execution_count": 79,
      "outputs": [
        {
          "output_type": "execute_result",
          "data": {
            "text/html": [
              "<div>\n",
              "<style scoped>\n",
              "    .dataframe tbody tr th:only-of-type {\n",
              "        vertical-align: middle;\n",
              "    }\n",
              "\n",
              "    .dataframe tbody tr th {\n",
              "        vertical-align: top;\n",
              "    }\n",
              "\n",
              "    .dataframe thead th {\n",
              "        text-align: right;\n",
              "    }\n",
              "</style>\n",
              "<table border=\"1\" class=\"dataframe\">\n",
              "  <thead>\n",
              "    <tr style=\"text-align: right;\">\n",
              "      <th></th>\n",
              "      <th>Weight</th>\n",
              "      <th>HB</th>\n",
              "      <th>BP</th>\n",
              "      <th>Result</th>\n",
              "    </tr>\n",
              "  </thead>\n",
              "  <tbody>\n",
              "  </tbody>\n",
              "</table>\n",
              "</div>"
            ],
            "text/plain": [
              "Empty DataFrame\n",
              "Columns: [Weight, HB, BP, Result]\n",
              "Index: []"
            ]
          },
          "metadata": {
            "tags": []
          },
          "execution_count": 79
        }
      ]
    },
    {
      "cell_type": "code",
      "metadata": {
        "id": "7fDjpYcs5-kY",
        "outputId": "c8c417b2-60a0-4ca7-affd-126a5123afbf",
        "colab": {
          "base_uri": "https://localhost:8080/",
          "height": 111
        }
      },
      "source": [
        "# Sanity check to make sure that there is no row that is in more than one dataframe\n",
        "df_train.merge(df_test, how='inner', on=df.columns.to_list())"
      ],
      "execution_count": 80,
      "outputs": [
        {
          "output_type": "execute_result",
          "data": {
            "text/html": [
              "<div>\n",
              "<style scoped>\n",
              "    .dataframe tbody tr th:only-of-type {\n",
              "        vertical-align: middle;\n",
              "    }\n",
              "\n",
              "    .dataframe tbody tr th {\n",
              "        vertical-align: top;\n",
              "    }\n",
              "\n",
              "    .dataframe thead th {\n",
              "        text-align: right;\n",
              "    }\n",
              "</style>\n",
              "<table border=\"1\" class=\"dataframe\">\n",
              "  <thead>\n",
              "    <tr style=\"text-align: right;\">\n",
              "      <th></th>\n",
              "      <th>Weight</th>\n",
              "      <th>HB</th>\n",
              "      <th>BP</th>\n",
              "      <th>Result</th>\n",
              "    </tr>\n",
              "  </thead>\n",
              "  <tbody>\n",
              "    <tr>\n",
              "      <th>0</th>\n",
              "      <td>43.0</td>\n",
              "      <td>9.200000</td>\n",
              "      <td>1.375000</td>\n",
              "      <td>1</td>\n",
              "    </tr>\n",
              "    <tr>\n",
              "      <th>1</th>\n",
              "      <td>40.0</td>\n",
              "      <td>9.072131</td>\n",
              "      <td>1.711841</td>\n",
              "      <td>1</td>\n",
              "    </tr>\n",
              "  </tbody>\n",
              "</table>\n",
              "</div>"
            ],
            "text/plain": [
              "   Weight        HB        BP  Result\n",
              "0    43.0  9.200000  1.375000       1\n",
              "1    40.0  9.072131  1.711841       1"
            ]
          },
          "metadata": {
            "tags": []
          },
          "execution_count": 80
        }
      ]
    },
    {
      "cell_type": "code",
      "metadata": {
        "id": "UsqYLiwc_ncD",
        "outputId": "acc94133-326d-4d53-fec6-70080edd511e",
        "colab": {
          "base_uri": "https://localhost:8080/",
          "height": 111
        }
      },
      "source": [
        "df.loc[(df[\"Weight\"] == 43.0) & (df[\"HB\"] == 9.2) & (df[\"BP\"] == 1.375)]"
      ],
      "execution_count": 81,
      "outputs": [
        {
          "output_type": "execute_result",
          "data": {
            "text/html": [
              "<div>\n",
              "<style scoped>\n",
              "    .dataframe tbody tr th:only-of-type {\n",
              "        vertical-align: middle;\n",
              "    }\n",
              "\n",
              "    .dataframe tbody tr th {\n",
              "        vertical-align: top;\n",
              "    }\n",
              "\n",
              "    .dataframe thead th {\n",
              "        text-align: right;\n",
              "    }\n",
              "</style>\n",
              "<table border=\"1\" class=\"dataframe\">\n",
              "  <thead>\n",
              "    <tr style=\"text-align: right;\">\n",
              "      <th></th>\n",
              "      <th>Weight</th>\n",
              "      <th>HB</th>\n",
              "      <th>BP</th>\n",
              "      <th>Result</th>\n",
              "    </tr>\n",
              "  </thead>\n",
              "  <tbody>\n",
              "    <tr>\n",
              "      <th>52</th>\n",
              "      <td>43.0</td>\n",
              "      <td>9.2</td>\n",
              "      <td>1.375</td>\n",
              "      <td>1</td>\n",
              "    </tr>\n",
              "    <tr>\n",
              "      <th>78</th>\n",
              "      <td>43.0</td>\n",
              "      <td>9.2</td>\n",
              "      <td>1.375</td>\n",
              "      <td>1</td>\n",
              "    </tr>\n",
              "  </tbody>\n",
              "</table>\n",
              "</div>"
            ],
            "text/plain": [
              "    Weight   HB     BP  Result\n",
              "52    43.0  9.2  1.375       1\n",
              "78    43.0  9.2  1.375       1"
            ]
          },
          "metadata": {
            "tags": []
          },
          "execution_count": 81
        }
      ]
    },
    {
      "cell_type": "code",
      "metadata": {
        "id": "5AiDSYgK-HMP",
        "outputId": "03620323-f03c-46c8-db06-f3665bc4a2a5",
        "colab": {
          "base_uri": "https://localhost:8080/",
          "height": 80
        }
      },
      "source": [
        "df_test.loc[df_test[\"Weight\"] == 43.0]"
      ],
      "execution_count": 82,
      "outputs": [
        {
          "output_type": "execute_result",
          "data": {
            "text/html": [
              "<div>\n",
              "<style scoped>\n",
              "    .dataframe tbody tr th:only-of-type {\n",
              "        vertical-align: middle;\n",
              "    }\n",
              "\n",
              "    .dataframe tbody tr th {\n",
              "        vertical-align: top;\n",
              "    }\n",
              "\n",
              "    .dataframe thead th {\n",
              "        text-align: right;\n",
              "    }\n",
              "</style>\n",
              "<table border=\"1\" class=\"dataframe\">\n",
              "  <thead>\n",
              "    <tr style=\"text-align: right;\">\n",
              "      <th></th>\n",
              "      <th>Weight</th>\n",
              "      <th>HB</th>\n",
              "      <th>BP</th>\n",
              "      <th>Result</th>\n",
              "    </tr>\n",
              "  </thead>\n",
              "  <tbody>\n",
              "    <tr>\n",
              "      <th>9</th>\n",
              "      <td>43.0</td>\n",
              "      <td>9.2</td>\n",
              "      <td>1.375</td>\n",
              "      <td>1</td>\n",
              "    </tr>\n",
              "  </tbody>\n",
              "</table>\n",
              "</div>"
            ],
            "text/plain": [
              "   Weight   HB     BP  Result\n",
              "9    43.0  9.2  1.375       1"
            ]
          },
          "metadata": {
            "tags": []
          },
          "execution_count": 82
        }
      ]
    },
    {
      "cell_type": "code",
      "metadata": {
        "id": "6rJIorQ4-PSQ",
        "outputId": "d0b63f22-3ee6-4b33-d134-1f72e2db57da",
        "colab": {
          "base_uri": "https://localhost:8080/",
          "height": 204
        }
      },
      "source": [
        "df_train.loc[df_train[\"Weight\"] == 43.0]"
      ],
      "execution_count": 83,
      "outputs": [
        {
          "output_type": "execute_result",
          "data": {
            "text/html": [
              "<div>\n",
              "<style scoped>\n",
              "    .dataframe tbody tr th:only-of-type {\n",
              "        vertical-align: middle;\n",
              "    }\n",
              "\n",
              "    .dataframe tbody tr th {\n",
              "        vertical-align: top;\n",
              "    }\n",
              "\n",
              "    .dataframe thead th {\n",
              "        text-align: right;\n",
              "    }\n",
              "</style>\n",
              "<table border=\"1\" class=\"dataframe\">\n",
              "  <thead>\n",
              "    <tr style=\"text-align: right;\">\n",
              "      <th></th>\n",
              "      <th>Weight</th>\n",
              "      <th>HB</th>\n",
              "      <th>BP</th>\n",
              "      <th>Result</th>\n",
              "    </tr>\n",
              "  </thead>\n",
              "  <tbody>\n",
              "    <tr>\n",
              "      <th>18</th>\n",
              "      <td>43.0</td>\n",
              "      <td>10.2</td>\n",
              "      <td>1.571429</td>\n",
              "      <td>1</td>\n",
              "    </tr>\n",
              "    <tr>\n",
              "      <th>35</th>\n",
              "      <td>43.0</td>\n",
              "      <td>9.2</td>\n",
              "      <td>1.375000</td>\n",
              "      <td>1</td>\n",
              "    </tr>\n",
              "    <tr>\n",
              "      <th>44</th>\n",
              "      <td>43.0</td>\n",
              "      <td>9.0</td>\n",
              "      <td>1.666667</td>\n",
              "      <td>1</td>\n",
              "    </tr>\n",
              "    <tr>\n",
              "      <th>57</th>\n",
              "      <td>43.0</td>\n",
              "      <td>9.0</td>\n",
              "      <td>1.375000</td>\n",
              "      <td>1</td>\n",
              "    </tr>\n",
              "    <tr>\n",
              "      <th>60</th>\n",
              "      <td>43.0</td>\n",
              "      <td>9.0</td>\n",
              "      <td>1.375000</td>\n",
              "      <td>1</td>\n",
              "    </tr>\n",
              "  </tbody>\n",
              "</table>\n",
              "</div>"
            ],
            "text/plain": [
              "    Weight    HB        BP  Result\n",
              "18    43.0  10.2  1.571429       1\n",
              "35    43.0   9.2  1.375000       1\n",
              "44    43.0   9.0  1.666667       1\n",
              "57    43.0   9.0  1.375000       1\n",
              "60    43.0   9.0  1.375000       1"
            ]
          },
          "metadata": {
            "tags": []
          },
          "execution_count": 83
        }
      ]
    },
    {
      "cell_type": "code",
      "metadata": {
        "id": "C9Q2o2m66BCY",
        "outputId": "91bd00fd-0de0-400c-c2cb-d6f452066749",
        "colab": {
          "base_uri": "https://localhost:8080/",
          "height": 49
        }
      },
      "source": [
        "# Sanity check to make sure that there is no row that is in more than one dataframe\n",
        "df_test.merge(df_valid, how='inner', on=df.columns.to_list())"
      ],
      "execution_count": 84,
      "outputs": [
        {
          "output_type": "execute_result",
          "data": {
            "text/html": [
              "<div>\n",
              "<style scoped>\n",
              "    .dataframe tbody tr th:only-of-type {\n",
              "        vertical-align: middle;\n",
              "    }\n",
              "\n",
              "    .dataframe tbody tr th {\n",
              "        vertical-align: top;\n",
              "    }\n",
              "\n",
              "    .dataframe thead th {\n",
              "        text-align: right;\n",
              "    }\n",
              "</style>\n",
              "<table border=\"1\" class=\"dataframe\">\n",
              "  <thead>\n",
              "    <tr style=\"text-align: right;\">\n",
              "      <th></th>\n",
              "      <th>Weight</th>\n",
              "      <th>HB</th>\n",
              "      <th>BP</th>\n",
              "      <th>Result</th>\n",
              "    </tr>\n",
              "  </thead>\n",
              "  <tbody>\n",
              "  </tbody>\n",
              "</table>\n",
              "</div>"
            ],
            "text/plain": [
              "Empty DataFrame\n",
              "Columns: [Weight, HB, BP, Result]\n",
              "Index: []"
            ]
          },
          "metadata": {
            "tags": []
          },
          "execution_count": 84
        }
      ]
    },
    {
      "cell_type": "code",
      "metadata": {
        "id": "08JSVlPt18lf",
        "outputId": "59186386-0cbe-49cb-a32d-57f3a928a357",
        "colab": {
          "base_uri": "https://localhost:8080/",
          "height": 204
        }
      },
      "source": [
        "df_train.head()"
      ],
      "execution_count": 85,
      "outputs": [
        {
          "output_type": "execute_result",
          "data": {
            "text/html": [
              "<div>\n",
              "<style scoped>\n",
              "    .dataframe tbody tr th:only-of-type {\n",
              "        vertical-align: middle;\n",
              "    }\n",
              "\n",
              "    .dataframe tbody tr th {\n",
              "        vertical-align: top;\n",
              "    }\n",
              "\n",
              "    .dataframe thead th {\n",
              "        text-align: right;\n",
              "    }\n",
              "</style>\n",
              "<table border=\"1\" class=\"dataframe\">\n",
              "  <thead>\n",
              "    <tr style=\"text-align: right;\">\n",
              "      <th></th>\n",
              "      <th>Weight</th>\n",
              "      <th>HB</th>\n",
              "      <th>BP</th>\n",
              "      <th>Result</th>\n",
              "    </tr>\n",
              "  </thead>\n",
              "  <tbody>\n",
              "    <tr>\n",
              "      <th>0</th>\n",
              "      <td>48.0</td>\n",
              "      <td>9.200000</td>\n",
              "      <td>1.375000</td>\n",
              "      <td>1</td>\n",
              "    </tr>\n",
              "    <tr>\n",
              "      <th>1</th>\n",
              "      <td>46.0</td>\n",
              "      <td>9.000000</td>\n",
              "      <td>1.714286</td>\n",
              "      <td>1</td>\n",
              "    </tr>\n",
              "    <tr>\n",
              "      <th>2</th>\n",
              "      <td>38.0</td>\n",
              "      <td>9.072131</td>\n",
              "      <td>1.711841</td>\n",
              "      <td>1</td>\n",
              "    </tr>\n",
              "    <tr>\n",
              "      <th>3</th>\n",
              "      <td>35.0</td>\n",
              "      <td>8.900000</td>\n",
              "      <td>1.500000</td>\n",
              "      <td>1</td>\n",
              "    </tr>\n",
              "    <tr>\n",
              "      <th>4</th>\n",
              "      <td>60.0</td>\n",
              "      <td>9.200000</td>\n",
              "      <td>1.714286</td>\n",
              "      <td>1</td>\n",
              "    </tr>\n",
              "  </tbody>\n",
              "</table>\n",
              "</div>"
            ],
            "text/plain": [
              "   Weight        HB        BP  Result\n",
              "0    48.0  9.200000  1.375000       1\n",
              "1    46.0  9.000000  1.714286       1\n",
              "2    38.0  9.072131  1.711841       1\n",
              "3    35.0  8.900000  1.500000       1\n",
              "4    60.0  9.200000  1.714286       1"
            ]
          },
          "metadata": {
            "tags": []
          },
          "execution_count": 85
        }
      ]
    },
    {
      "cell_type": "code",
      "metadata": {
        "id": "D8AXtWuH2BQR"
      },
      "source": [
        "# Scale to [0, 1]\n",
        "max_ = df_train.max(axis=0)\n",
        "min_ = df_train.min(axis=0)\n",
        "df_train = (df_train - min_) / (max_ - min_)\n",
        "df_valid = (df_valid - min_) / (max_ - min_)\n",
        "df_test = (df_test - min_) / (max_ - min_)"
      ],
      "execution_count": 86,
      "outputs": []
    },
    {
      "cell_type": "code",
      "metadata": {
        "id": "q2-9SntkFBZ1"
      },
      "source": [
        "# One-hot encoding as we are using softmax activation function\n",
        "df_train = pd.get_dummies(df_train, prefix='Result', columns=['Result'])\n",
        "df_test = pd.get_dummies(df_test, prefix='Result', columns=['Result'])\n",
        "df_valid = pd.get_dummies(df_valid, prefix='Result', columns=['Result'])"
      ],
      "execution_count": 87,
      "outputs": []
    },
    {
      "cell_type": "code",
      "metadata": {
        "id": "aj88K1ZpAuP2",
        "outputId": "68ec5daf-d81f-4193-cca8-26d1ba27e0c4",
        "colab": {
          "base_uri": "https://localhost:8080/",
          "height": 419
        }
      },
      "source": [
        "df_train"
      ],
      "execution_count": 88,
      "outputs": [
        {
          "output_type": "execute_result",
          "data": {
            "text/html": [
              "<div>\n",
              "<style scoped>\n",
              "    .dataframe tbody tr th:only-of-type {\n",
              "        vertical-align: middle;\n",
              "    }\n",
              "\n",
              "    .dataframe tbody tr th {\n",
              "        vertical-align: top;\n",
              "    }\n",
              "\n",
              "    .dataframe thead th {\n",
              "        text-align: right;\n",
              "    }\n",
              "</style>\n",
              "<table border=\"1\" class=\"dataframe\">\n",
              "  <thead>\n",
              "    <tr style=\"text-align: right;\">\n",
              "      <th></th>\n",
              "      <th>Weight</th>\n",
              "      <th>HB</th>\n",
              "      <th>BP</th>\n",
              "      <th>Result_0.0</th>\n",
              "      <th>Result_1.0</th>\n",
              "    </tr>\n",
              "  </thead>\n",
              "  <tbody>\n",
              "    <tr>\n",
              "      <th>0</th>\n",
              "      <td>0.514286</td>\n",
              "      <td>0.638298</td>\n",
              "      <td>0.013807</td>\n",
              "      <td>0</td>\n",
              "      <td>1</td>\n",
              "    </tr>\n",
              "    <tr>\n",
              "      <th>1</th>\n",
              "      <td>0.457143</td>\n",
              "      <td>0.595745</td>\n",
              "      <td>0.040575</td>\n",
              "      <td>0</td>\n",
              "      <td>1</td>\n",
              "    </tr>\n",
              "    <tr>\n",
              "      <th>2</th>\n",
              "      <td>0.228571</td>\n",
              "      <td>0.611092</td>\n",
              "      <td>0.040382</td>\n",
              "      <td>0</td>\n",
              "      <td>1</td>\n",
              "    </tr>\n",
              "    <tr>\n",
              "      <th>3</th>\n",
              "      <td>0.142857</td>\n",
              "      <td>0.574468</td>\n",
              "      <td>0.023669</td>\n",
              "      <td>0</td>\n",
              "      <td>1</td>\n",
              "    </tr>\n",
              "    <tr>\n",
              "      <th>4</th>\n",
              "      <td>0.857143</td>\n",
              "      <td>0.638298</td>\n",
              "      <td>0.040575</td>\n",
              "      <td>0</td>\n",
              "      <td>1</td>\n",
              "    </tr>\n",
              "    <tr>\n",
              "      <th>...</th>\n",
              "      <td>...</td>\n",
              "      <td>...</td>\n",
              "      <td>...</td>\n",
              "      <td>...</td>\n",
              "      <td>...</td>\n",
              "    </tr>\n",
              "    <tr>\n",
              "      <th>60</th>\n",
              "      <td>0.371429</td>\n",
              "      <td>0.595745</td>\n",
              "      <td>0.013807</td>\n",
              "      <td>0</td>\n",
              "      <td>1</td>\n",
              "    </tr>\n",
              "    <tr>\n",
              "      <th>61</th>\n",
              "      <td>0.314286</td>\n",
              "      <td>0.595745</td>\n",
              "      <td>0.013807</td>\n",
              "      <td>0</td>\n",
              "      <td>1</td>\n",
              "    </tr>\n",
              "    <tr>\n",
              "      <th>62</th>\n",
              "      <td>0.571429</td>\n",
              "      <td>0.638298</td>\n",
              "      <td>0.029270</td>\n",
              "      <td>0</td>\n",
              "      <td>1</td>\n",
              "    </tr>\n",
              "    <tr>\n",
              "      <th>63</th>\n",
              "      <td>0.542857</td>\n",
              "      <td>0.617021</td>\n",
              "      <td>0.029304</td>\n",
              "      <td>0</td>\n",
              "      <td>1</td>\n",
              "    </tr>\n",
              "    <tr>\n",
              "      <th>64</th>\n",
              "      <td>0.857143</td>\n",
              "      <td>1.000000</td>\n",
              "      <td>0.013807</td>\n",
              "      <td>0</td>\n",
              "      <td>1</td>\n",
              "    </tr>\n",
              "  </tbody>\n",
              "</table>\n",
              "<p>65 rows × 5 columns</p>\n",
              "</div>"
            ],
            "text/plain": [
              "      Weight        HB        BP  Result_0.0  Result_1.0\n",
              "0   0.514286  0.638298  0.013807           0           1\n",
              "1   0.457143  0.595745  0.040575           0           1\n",
              "2   0.228571  0.611092  0.040382           0           1\n",
              "3   0.142857  0.574468  0.023669           0           1\n",
              "4   0.857143  0.638298  0.040575           0           1\n",
              "..       ...       ...       ...         ...         ...\n",
              "60  0.371429  0.595745  0.013807           0           1\n",
              "61  0.314286  0.595745  0.013807           0           1\n",
              "62  0.571429  0.638298  0.029270           0           1\n",
              "63  0.542857  0.617021  0.029304           0           1\n",
              "64  0.857143  1.000000  0.013807           0           1\n",
              "\n",
              "[65 rows x 5 columns]"
            ]
          },
          "metadata": {
            "tags": []
          },
          "execution_count": 88
        }
      ]
    },
    {
      "cell_type": "code",
      "metadata": {
        "id": "Le3COMjdGUUN",
        "outputId": "4625de74-7496-4d27-a622-060149622ee8",
        "colab": {
          "base_uri": "https://localhost:8080/",
          "height": 483
        }
      },
      "source": [
        "df_train.loc[df_train[\"Result_0.0\"] == 1]"
      ],
      "execution_count": 89,
      "outputs": [
        {
          "output_type": "execute_result",
          "data": {
            "text/html": [
              "<div>\n",
              "<style scoped>\n",
              "    .dataframe tbody tr th:only-of-type {\n",
              "        vertical-align: middle;\n",
              "    }\n",
              "\n",
              "    .dataframe tbody tr th {\n",
              "        vertical-align: top;\n",
              "    }\n",
              "\n",
              "    .dataframe thead th {\n",
              "        text-align: right;\n",
              "    }\n",
              "</style>\n",
              "<table border=\"1\" class=\"dataframe\">\n",
              "  <thead>\n",
              "    <tr style=\"text-align: right;\">\n",
              "      <th></th>\n",
              "      <th>Weight</th>\n",
              "      <th>HB</th>\n",
              "      <th>BP</th>\n",
              "      <th>Result_0.0</th>\n",
              "      <th>Result_1.0</th>\n",
              "    </tr>\n",
              "  </thead>\n",
              "  <tbody>\n",
              "    <tr>\n",
              "      <th>7</th>\n",
              "      <td>0.342857</td>\n",
              "      <td>0.638298</td>\n",
              "      <td>0.013807</td>\n",
              "      <td>1</td>\n",
              "      <td>0</td>\n",
              "    </tr>\n",
              "    <tr>\n",
              "      <th>8</th>\n",
              "      <td>0.228571</td>\n",
              "      <td>0.615691</td>\n",
              "      <td>0.045400</td>\n",
              "      <td>1</td>\n",
              "      <td>0</td>\n",
              "    </tr>\n",
              "    <tr>\n",
              "      <th>11</th>\n",
              "      <td>0.285714</td>\n",
              "      <td>0.595745</td>\n",
              "      <td>0.045400</td>\n",
              "      <td>1</td>\n",
              "      <td>0</td>\n",
              "    </tr>\n",
              "    <tr>\n",
              "      <th>14</th>\n",
              "      <td>0.171429</td>\n",
              "      <td>0.680851</td>\n",
              "      <td>0.023669</td>\n",
              "      <td>1</td>\n",
              "      <td>0</td>\n",
              "    </tr>\n",
              "    <tr>\n",
              "      <th>21</th>\n",
              "      <td>0.171429</td>\n",
              "      <td>0.787234</td>\n",
              "      <td>0.029304</td>\n",
              "      <td>1</td>\n",
              "      <td>0</td>\n",
              "    </tr>\n",
              "    <tr>\n",
              "      <th>26</th>\n",
              "      <td>0.142857</td>\n",
              "      <td>0.638298</td>\n",
              "      <td>0.029304</td>\n",
              "      <td>1</td>\n",
              "      <td>0</td>\n",
              "    </tr>\n",
              "    <tr>\n",
              "      <th>30</th>\n",
              "      <td>0.428571</td>\n",
              "      <td>0.615691</td>\n",
              "      <td>0.045400</td>\n",
              "      <td>1</td>\n",
              "      <td>0</td>\n",
              "    </tr>\n",
              "    <tr>\n",
              "      <th>32</th>\n",
              "      <td>0.000000</td>\n",
              "      <td>0.615691</td>\n",
              "      <td>0.045400</td>\n",
              "      <td>1</td>\n",
              "      <td>0</td>\n",
              "    </tr>\n",
              "    <tr>\n",
              "      <th>34</th>\n",
              "      <td>0.171429</td>\n",
              "      <td>0.723404</td>\n",
              "      <td>0.000000</td>\n",
              "      <td>1</td>\n",
              "      <td>0</td>\n",
              "    </tr>\n",
              "    <tr>\n",
              "      <th>38</th>\n",
              "      <td>0.085714</td>\n",
              "      <td>0.808511</td>\n",
              "      <td>0.029304</td>\n",
              "      <td>1</td>\n",
              "      <td>0</td>\n",
              "    </tr>\n",
              "    <tr>\n",
              "      <th>40</th>\n",
              "      <td>0.171429</td>\n",
              "      <td>0.382979</td>\n",
              "      <td>0.013807</td>\n",
              "      <td>1</td>\n",
              "      <td>0</td>\n",
              "    </tr>\n",
              "    <tr>\n",
              "      <th>41</th>\n",
              "      <td>0.285714</td>\n",
              "      <td>0.615691</td>\n",
              "      <td>0.045400</td>\n",
              "      <td>1</td>\n",
              "      <td>0</td>\n",
              "    </tr>\n",
              "    <tr>\n",
              "      <th>43</th>\n",
              "      <td>0.000000</td>\n",
              "      <td>0.595745</td>\n",
              "      <td>0.013807</td>\n",
              "      <td>1</td>\n",
              "      <td>0</td>\n",
              "    </tr>\n",
              "    <tr>\n",
              "      <th>45</th>\n",
              "      <td>0.028571</td>\n",
              "      <td>0.615691</td>\n",
              "      <td>0.033531</td>\n",
              "      <td>1</td>\n",
              "      <td>0</td>\n",
              "    </tr>\n",
              "  </tbody>\n",
              "</table>\n",
              "</div>"
            ],
            "text/plain": [
              "      Weight        HB        BP  Result_0.0  Result_1.0\n",
              "7   0.342857  0.638298  0.013807           1           0\n",
              "8   0.228571  0.615691  0.045400           1           0\n",
              "11  0.285714  0.595745  0.045400           1           0\n",
              "14  0.171429  0.680851  0.023669           1           0\n",
              "21  0.171429  0.787234  0.029304           1           0\n",
              "26  0.142857  0.638298  0.029304           1           0\n",
              "30  0.428571  0.615691  0.045400           1           0\n",
              "32  0.000000  0.615691  0.045400           1           0\n",
              "34  0.171429  0.723404  0.000000           1           0\n",
              "38  0.085714  0.808511  0.029304           1           0\n",
              "40  0.171429  0.382979  0.013807           1           0\n",
              "41  0.285714  0.615691  0.045400           1           0\n",
              "43  0.000000  0.595745  0.013807           1           0\n",
              "45  0.028571  0.615691  0.033531           1           0"
            ]
          },
          "metadata": {
            "tags": []
          },
          "execution_count": 89
        }
      ]
    },
    {
      "cell_type": "code",
      "metadata": {
        "id": "DojSPPzd1--Y",
        "outputId": "42fa61ee-f427-41ae-e628-e3fa9c7e7dcb",
        "colab": {
          "base_uri": "https://localhost:8080/",
          "height": 421
        }
      },
      "source": [
        "df_valid"
      ],
      "execution_count": 90,
      "outputs": [
        {
          "output_type": "execute_result",
          "data": {
            "text/html": [
              "<div>\n",
              "<style scoped>\n",
              "    .dataframe tbody tr th:only-of-type {\n",
              "        vertical-align: middle;\n",
              "    }\n",
              "\n",
              "    .dataframe tbody tr th {\n",
              "        vertical-align: top;\n",
              "    }\n",
              "\n",
              "    .dataframe thead th {\n",
              "        text-align: right;\n",
              "    }\n",
              "</style>\n",
              "<table border=\"1\" class=\"dataframe\">\n",
              "  <thead>\n",
              "    <tr style=\"text-align: right;\">\n",
              "      <th></th>\n",
              "      <th>Weight</th>\n",
              "      <th>HB</th>\n",
              "      <th>BP</th>\n",
              "      <th>Result_0.0</th>\n",
              "      <th>Result_1.0</th>\n",
              "    </tr>\n",
              "  </thead>\n",
              "  <tbody>\n",
              "    <tr>\n",
              "      <th>0</th>\n",
              "      <td>0.400000</td>\n",
              "      <td>1.021277</td>\n",
              "      <td>0.029304</td>\n",
              "      <td>0</td>\n",
              "      <td>1</td>\n",
              "    </tr>\n",
              "    <tr>\n",
              "      <th>1</th>\n",
              "      <td>0.285714</td>\n",
              "      <td>0.595745</td>\n",
              "      <td>0.013807</td>\n",
              "      <td>0</td>\n",
              "      <td>1</td>\n",
              "    </tr>\n",
              "    <tr>\n",
              "      <th>2</th>\n",
              "      <td>0.400000</td>\n",
              "      <td>0.611092</td>\n",
              "      <td>0.040382</td>\n",
              "      <td>0</td>\n",
              "      <td>1</td>\n",
              "    </tr>\n",
              "    <tr>\n",
              "      <th>3</th>\n",
              "      <td>0.257143</td>\n",
              "      <td>0.595745</td>\n",
              "      <td>0.013807</td>\n",
              "      <td>1</td>\n",
              "      <td>0</td>\n",
              "    </tr>\n",
              "    <tr>\n",
              "      <th>4</th>\n",
              "      <td>0.285714</td>\n",
              "      <td>1.021277</td>\n",
              "      <td>0.001753</td>\n",
              "      <td>0</td>\n",
              "      <td>1</td>\n",
              "    </tr>\n",
              "    <tr>\n",
              "      <th>5</th>\n",
              "      <td>0.171429</td>\n",
              "      <td>0.615691</td>\n",
              "      <td>0.045400</td>\n",
              "      <td>1</td>\n",
              "      <td>0</td>\n",
              "    </tr>\n",
              "    <tr>\n",
              "      <th>6</th>\n",
              "      <td>0.428571</td>\n",
              "      <td>0.595745</td>\n",
              "      <td>0.013807</td>\n",
              "      <td>0</td>\n",
              "      <td>1</td>\n",
              "    </tr>\n",
              "    <tr>\n",
              "      <th>7</th>\n",
              "      <td>0.971429</td>\n",
              "      <td>0.553191</td>\n",
              "      <td>0.036765</td>\n",
              "      <td>0</td>\n",
              "      <td>1</td>\n",
              "    </tr>\n",
              "    <tr>\n",
              "      <th>8</th>\n",
              "      <td>0.085714</td>\n",
              "      <td>0.659574</td>\n",
              "      <td>0.029270</td>\n",
              "      <td>1</td>\n",
              "      <td>0</td>\n",
              "    </tr>\n",
              "    <tr>\n",
              "      <th>9</th>\n",
              "      <td>0.314286</td>\n",
              "      <td>0.617021</td>\n",
              "      <td>0.013807</td>\n",
              "      <td>0</td>\n",
              "      <td>1</td>\n",
              "    </tr>\n",
              "    <tr>\n",
              "      <th>10</th>\n",
              "      <td>0.057143</td>\n",
              "      <td>0.615691</td>\n",
              "      <td>0.045400</td>\n",
              "      <td>1</td>\n",
              "      <td>0</td>\n",
              "    </tr>\n",
              "    <tr>\n",
              "      <th>11</th>\n",
              "      <td>0.285714</td>\n",
              "      <td>0.617021</td>\n",
              "      <td>0.029270</td>\n",
              "      <td>0</td>\n",
              "      <td>1</td>\n",
              "    </tr>\n",
              "  </tbody>\n",
              "</table>\n",
              "</div>"
            ],
            "text/plain": [
              "      Weight        HB        BP  Result_0.0  Result_1.0\n",
              "0   0.400000  1.021277  0.029304           0           1\n",
              "1   0.285714  0.595745  0.013807           0           1\n",
              "2   0.400000  0.611092  0.040382           0           1\n",
              "3   0.257143  0.595745  0.013807           1           0\n",
              "4   0.285714  1.021277  0.001753           0           1\n",
              "5   0.171429  0.615691  0.045400           1           0\n",
              "6   0.428571  0.595745  0.013807           0           1\n",
              "7   0.971429  0.553191  0.036765           0           1\n",
              "8   0.085714  0.659574  0.029270           1           0\n",
              "9   0.314286  0.617021  0.013807           0           1\n",
              "10  0.057143  0.615691  0.045400           1           0\n",
              "11  0.285714  0.617021  0.029270           0           1"
            ]
          },
          "metadata": {
            "tags": []
          },
          "execution_count": 90
        }
      ]
    },
    {
      "cell_type": "code",
      "metadata": {
        "id": "Kz5uq9sW3MkC",
        "outputId": "e46f2413-64f6-42f4-cc7a-614b86435ed6",
        "colab": {
          "base_uri": "https://localhost:8080/",
          "height": 638
        }
      },
      "source": [
        "df_test"
      ],
      "execution_count": 91,
      "outputs": [
        {
          "output_type": "execute_result",
          "data": {
            "text/html": [
              "<div>\n",
              "<style scoped>\n",
              "    .dataframe tbody tr th:only-of-type {\n",
              "        vertical-align: middle;\n",
              "    }\n",
              "\n",
              "    .dataframe tbody tr th {\n",
              "        vertical-align: top;\n",
              "    }\n",
              "\n",
              "    .dataframe thead th {\n",
              "        text-align: right;\n",
              "    }\n",
              "</style>\n",
              "<table border=\"1\" class=\"dataframe\">\n",
              "  <thead>\n",
              "    <tr style=\"text-align: right;\">\n",
              "      <th></th>\n",
              "      <th>Weight</th>\n",
              "      <th>HB</th>\n",
              "      <th>BP</th>\n",
              "      <th>Result_0.0</th>\n",
              "      <th>Result_1.0</th>\n",
              "    </tr>\n",
              "  </thead>\n",
              "  <tbody>\n",
              "    <tr>\n",
              "      <th>0</th>\n",
              "      <td>0.171429</td>\n",
              "      <td>0.553191</td>\n",
              "      <td>0.023669</td>\n",
              "      <td>1</td>\n",
              "      <td>0</td>\n",
              "    </tr>\n",
              "    <tr>\n",
              "      <th>1</th>\n",
              "      <td>0.171429</td>\n",
              "      <td>0.638298</td>\n",
              "      <td>0.072978</td>\n",
              "      <td>1</td>\n",
              "      <td>0</td>\n",
              "    </tr>\n",
              "    <tr>\n",
              "      <th>2</th>\n",
              "      <td>0.171429</td>\n",
              "      <td>0.574468</td>\n",
              "      <td>0.040575</td>\n",
              "      <td>1</td>\n",
              "      <td>0</td>\n",
              "    </tr>\n",
              "    <tr>\n",
              "      <th>3</th>\n",
              "      <td>0.171429</td>\n",
              "      <td>0.615691</td>\n",
              "      <td>0.339250</td>\n",
              "      <td>1</td>\n",
              "      <td>0</td>\n",
              "    </tr>\n",
              "    <tr>\n",
              "      <th>4</th>\n",
              "      <td>0.171429</td>\n",
              "      <td>0.382979</td>\n",
              "      <td>0.029304</td>\n",
              "      <td>1</td>\n",
              "      <td>0</td>\n",
              "    </tr>\n",
              "    <tr>\n",
              "      <th>5</th>\n",
              "      <td>0.171429</td>\n",
              "      <td>0.595745</td>\n",
              "      <td>0.036413</td>\n",
              "      <td>1</td>\n",
              "      <td>0</td>\n",
              "    </tr>\n",
              "    <tr>\n",
              "      <th>6</th>\n",
              "      <td>0.857143</td>\n",
              "      <td>0.595745</td>\n",
              "      <td>0.013807</td>\n",
              "      <td>0</td>\n",
              "      <td>1</td>\n",
              "    </tr>\n",
              "    <tr>\n",
              "      <th>7</th>\n",
              "      <td>0.714286</td>\n",
              "      <td>0.595745</td>\n",
              "      <td>0.040552</td>\n",
              "      <td>0</td>\n",
              "      <td>1</td>\n",
              "    </tr>\n",
              "    <tr>\n",
              "      <th>8</th>\n",
              "      <td>0.285714</td>\n",
              "      <td>0.574468</td>\n",
              "      <td>0.013807</td>\n",
              "      <td>0</td>\n",
              "      <td>1</td>\n",
              "    </tr>\n",
              "    <tr>\n",
              "      <th>9</th>\n",
              "      <td>0.371429</td>\n",
              "      <td>0.638298</td>\n",
              "      <td>0.013807</td>\n",
              "      <td>0</td>\n",
              "      <td>1</td>\n",
              "    </tr>\n",
              "    <tr>\n",
              "      <th>10</th>\n",
              "      <td>0.285714</td>\n",
              "      <td>0.361702</td>\n",
              "      <td>0.036818</td>\n",
              "      <td>0</td>\n",
              "      <td>1</td>\n",
              "    </tr>\n",
              "    <tr>\n",
              "      <th>11</th>\n",
              "      <td>0.600000</td>\n",
              "      <td>0.382979</td>\n",
              "      <td>0.102564</td>\n",
              "      <td>0</td>\n",
              "      <td>1</td>\n",
              "    </tr>\n",
              "    <tr>\n",
              "      <th>12</th>\n",
              "      <td>0.742857</td>\n",
              "      <td>0.468085</td>\n",
              "      <td>0.029304</td>\n",
              "      <td>0</td>\n",
              "      <td>1</td>\n",
              "    </tr>\n",
              "    <tr>\n",
              "      <th>13</th>\n",
              "      <td>0.571429</td>\n",
              "      <td>-0.063830</td>\n",
              "      <td>0.018033</td>\n",
              "      <td>0</td>\n",
              "      <td>1</td>\n",
              "    </tr>\n",
              "    <tr>\n",
              "      <th>14</th>\n",
              "      <td>0.257143</td>\n",
              "      <td>0.611092</td>\n",
              "      <td>0.040382</td>\n",
              "      <td>0</td>\n",
              "      <td>1</td>\n",
              "    </tr>\n",
              "    <tr>\n",
              "      <th>15</th>\n",
              "      <td>0.285714</td>\n",
              "      <td>0.611092</td>\n",
              "      <td>0.040382</td>\n",
              "      <td>0</td>\n",
              "      <td>1</td>\n",
              "    </tr>\n",
              "    <tr>\n",
              "      <th>16</th>\n",
              "      <td>0.428571</td>\n",
              "      <td>0.611092</td>\n",
              "      <td>0.023669</td>\n",
              "      <td>0</td>\n",
              "      <td>1</td>\n",
              "    </tr>\n",
              "    <tr>\n",
              "      <th>17</th>\n",
              "      <td>0.342857</td>\n",
              "      <td>0.611092</td>\n",
              "      <td>0.040382</td>\n",
              "      <td>0</td>\n",
              "      <td>1</td>\n",
              "    </tr>\n",
              "    <tr>\n",
              "      <th>18</th>\n",
              "      <td>0.257143</td>\n",
              "      <td>0.468085</td>\n",
              "      <td>0.023669</td>\n",
              "      <td>0</td>\n",
              "      <td>1</td>\n",
              "    </tr>\n",
              "  </tbody>\n",
              "</table>\n",
              "</div>"
            ],
            "text/plain": [
              "      Weight        HB        BP  Result_0.0  Result_1.0\n",
              "0   0.171429  0.553191  0.023669           1           0\n",
              "1   0.171429  0.638298  0.072978           1           0\n",
              "2   0.171429  0.574468  0.040575           1           0\n",
              "3   0.171429  0.615691  0.339250           1           0\n",
              "4   0.171429  0.382979  0.029304           1           0\n",
              "5   0.171429  0.595745  0.036413           1           0\n",
              "6   0.857143  0.595745  0.013807           0           1\n",
              "7   0.714286  0.595745  0.040552           0           1\n",
              "8   0.285714  0.574468  0.013807           0           1\n",
              "9   0.371429  0.638298  0.013807           0           1\n",
              "10  0.285714  0.361702  0.036818           0           1\n",
              "11  0.600000  0.382979  0.102564           0           1\n",
              "12  0.742857  0.468085  0.029304           0           1\n",
              "13  0.571429 -0.063830  0.018033           0           1\n",
              "14  0.257143  0.611092  0.040382           0           1\n",
              "15  0.285714  0.611092  0.040382           0           1\n",
              "16  0.428571  0.611092  0.023669           0           1\n",
              "17  0.342857  0.611092  0.040382           0           1\n",
              "18  0.257143  0.468085  0.023669           0           1"
            ]
          },
          "metadata": {
            "tags": []
          },
          "execution_count": 91
        }
      ]
    },
    {
      "cell_type": "code",
      "metadata": {
        "id": "vcSrTYWj2-B6"
      },
      "source": [
        "df_train.to_csv(\"train_split.csv\", index=False)\n",
        "df_valid.to_csv(\"valid_split.csv\", index=False)\n",
        "df_test.to_csv(\"test_split.csv\", index=False)"
      ],
      "execution_count": 92,
      "outputs": []
    }
  ]
}