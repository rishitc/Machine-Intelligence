{
  "nbformat": 4,
  "nbformat_minor": 0,
  "metadata": {
    "colab": {
      "name": "Model_rc.ipynb",
      "provenance": [],
      "collapsed_sections": []
    },
    "kernelspec": {
      "name": "python3",
      "display_name": "Python 3"
    }
  },
  "cells": [
    {
      "cell_type": "code",
      "metadata": {
        "id": "cwd2eu6CEb0v"
      },
      "source": [
        "import csv\n",
        "import tensorflow as tf\n",
        "import numpy as np\n",
        "import pandas as pd\n",
        "import os\n",
        "from tensorflow.keras import layers\n",
        "import seaborn as sns\n",
        "from sklearn.model_selection import train_test_split\n",
        "import matplotlib.pyplot as plt\n",
        "from keras import backend as K\n",
        "\n",
        "\n",
        "df = pd.read_csv('LBW_Dataset.csv')\n",
        "df.Education.replace(np.NaN, 5, inplace=True)\n",
        "df.Residence.fillna(df.Residence.mode()[0], inplace=True)\n",
        "df[\"Delivery phase\"].fillna(df[\"Delivery phase\"].mode()[0], inplace=True)\n",
        "df[\"Age\"].fillna(df[\"Age\"].median(axis=0), inplace=True)\n",
        "df[\"Weight\"].fillna(df[\"Weight\"].mean(axis=0), inplace=True)\n",
        "df[\"HB\"].fillna(df[\"HB\"].mean(axis=0), inplace=True)\n",
        "df[\"BP\"].fillna(df[\"BP\"].mean(axis=0), inplace=True)\n",
        "# print(df)\n"
      ],
      "execution_count": null,
      "outputs": []
    },
    {
      "cell_type": "code",
      "metadata": {
        "id": "yALQEyKKVQPD",
        "outputId": "f3a3edcb-06d7-4734-d8a2-83f4b385137f",
        "colab": {
          "base_uri": "https://localhost:8080/",
          "height": 142
        }
      },
      "source": [
        "df.groupby('Result').count()"
      ],
      "execution_count": null,
      "outputs": [
        {
          "output_type": "execute_result",
          "data": {
            "text/html": [
              "<div>\n",
              "<style scoped>\n",
              "    .dataframe tbody tr th:only-of-type {\n",
              "        vertical-align: middle;\n",
              "    }\n",
              "\n",
              "    .dataframe tbody tr th {\n",
              "        vertical-align: top;\n",
              "    }\n",
              "\n",
              "    .dataframe thead th {\n",
              "        text-align: right;\n",
              "    }\n",
              "</style>\n",
              "<table border=\"1\" class=\"dataframe\">\n",
              "  <thead>\n",
              "    <tr style=\"text-align: right;\">\n",
              "      <th></th>\n",
              "      <th>Community</th>\n",
              "      <th>Age</th>\n",
              "      <th>Weight</th>\n",
              "      <th>Delivery phase</th>\n",
              "      <th>HB</th>\n",
              "      <th>IFA</th>\n",
              "      <th>BP</th>\n",
              "      <th>Education</th>\n",
              "      <th>Residence</th>\n",
              "    </tr>\n",
              "    <tr>\n",
              "      <th>Result</th>\n",
              "      <th></th>\n",
              "      <th></th>\n",
              "      <th></th>\n",
              "      <th></th>\n",
              "      <th></th>\n",
              "      <th></th>\n",
              "      <th></th>\n",
              "      <th></th>\n",
              "      <th></th>\n",
              "    </tr>\n",
              "  </thead>\n",
              "  <tbody>\n",
              "    <tr>\n",
              "      <th>0</th>\n",
              "      <td>24</td>\n",
              "      <td>24</td>\n",
              "      <td>24</td>\n",
              "      <td>24</td>\n",
              "      <td>24</td>\n",
              "      <td>24</td>\n",
              "      <td>24</td>\n",
              "      <td>24</td>\n",
              "      <td>24</td>\n",
              "    </tr>\n",
              "    <tr>\n",
              "      <th>1</th>\n",
              "      <td>72</td>\n",
              "      <td>72</td>\n",
              "      <td>72</td>\n",
              "      <td>72</td>\n",
              "      <td>72</td>\n",
              "      <td>72</td>\n",
              "      <td>72</td>\n",
              "      <td>72</td>\n",
              "      <td>72</td>\n",
              "    </tr>\n",
              "  </tbody>\n",
              "</table>\n",
              "</div>"
            ],
            "text/plain": [
              "        Community  Age  Weight  Delivery phase  ...  IFA  BP  Education  Residence\n",
              "Result                                          ...                               \n",
              "0              24   24      24              24  ...   24  24         24         24\n",
              "1              72   72      72              72  ...   72  72         72         72\n",
              "\n",
              "[2 rows x 9 columns]"
            ]
          },
          "metadata": {
            "tags": []
          },
          "execution_count": 92
        }
      ]
    },
    {
      "cell_type": "code",
      "metadata": {
        "id": "1abHUNYyU8Tg",
        "outputId": "3acfdbfa-da8e-4a48-fbfe-01acb86fa7be",
        "colab": {
          "base_uri": "https://localhost:8080/",
          "height": 204
        }
      },
      "source": [
        "def sampling_k_elements(group, k=24):\n",
        "    if len(group) < k:\n",
        "        return group\n",
        "    return group.sample(k)\n",
        "\n",
        "balanced1 = df.loc[df['Result'] == 0].groupby('Result').apply(sampling_k_elements, 24).reset_index(drop=True)\n",
        "balanced2 = df.loc[df['Result'] == 1].groupby('Result').apply(sampling_k_elements, 36).reset_index(drop=True)\n",
        "balanced = pd.concat([balanced2, balanced1])\n",
        "balanced.head()"
      ],
      "execution_count": null,
      "outputs": [
        {
          "output_type": "execute_result",
          "data": {
            "text/html": [
              "<div>\n",
              "<style scoped>\n",
              "    .dataframe tbody tr th:only-of-type {\n",
              "        vertical-align: middle;\n",
              "    }\n",
              "\n",
              "    .dataframe tbody tr th {\n",
              "        vertical-align: top;\n",
              "    }\n",
              "\n",
              "    .dataframe thead th {\n",
              "        text-align: right;\n",
              "    }\n",
              "</style>\n",
              "<table border=\"1\" class=\"dataframe\">\n",
              "  <thead>\n",
              "    <tr style=\"text-align: right;\">\n",
              "      <th></th>\n",
              "      <th>Community</th>\n",
              "      <th>Age</th>\n",
              "      <th>Weight</th>\n",
              "      <th>Delivery phase</th>\n",
              "      <th>HB</th>\n",
              "      <th>IFA</th>\n",
              "      <th>BP</th>\n",
              "      <th>Education</th>\n",
              "      <th>Residence</th>\n",
              "      <th>Result</th>\n",
              "    </tr>\n",
              "  </thead>\n",
              "  <tbody>\n",
              "    <tr>\n",
              "      <th>0</th>\n",
              "      <td>3</td>\n",
              "      <td>23.0</td>\n",
              "      <td>44.0</td>\n",
              "      <td>1.0</td>\n",
              "      <td>10.400000</td>\n",
              "      <td>1</td>\n",
              "      <td>1.375000</td>\n",
              "      <td>5.0</td>\n",
              "      <td>1.0</td>\n",
              "      <td>1</td>\n",
              "    </tr>\n",
              "    <tr>\n",
              "      <th>1</th>\n",
              "      <td>4</td>\n",
              "      <td>21.0</td>\n",
              "      <td>55.0</td>\n",
              "      <td>1.0</td>\n",
              "      <td>8.000000</td>\n",
              "      <td>1</td>\n",
              "      <td>1.571429</td>\n",
              "      <td>5.0</td>\n",
              "      <td>2.0</td>\n",
              "      <td>1</td>\n",
              "    </tr>\n",
              "    <tr>\n",
              "      <th>2</th>\n",
              "      <td>1</td>\n",
              "      <td>21.0</td>\n",
              "      <td>50.0</td>\n",
              "      <td>1.0</td>\n",
              "      <td>9.200000</td>\n",
              "      <td>1</td>\n",
              "      <td>1.625000</td>\n",
              "      <td>5.0</td>\n",
              "      <td>1.0</td>\n",
              "      <td>1</td>\n",
              "    </tr>\n",
              "    <tr>\n",
              "      <th>3</th>\n",
              "      <td>1</td>\n",
              "      <td>25.0</td>\n",
              "      <td>52.0</td>\n",
              "      <td>1.0</td>\n",
              "      <td>9.076623</td>\n",
              "      <td>0</td>\n",
              "      <td>1.725189</td>\n",
              "      <td>5.0</td>\n",
              "      <td>1.0</td>\n",
              "      <td>1</td>\n",
              "    </tr>\n",
              "    <tr>\n",
              "      <th>4</th>\n",
              "      <td>1</td>\n",
              "      <td>26.0</td>\n",
              "      <td>44.0</td>\n",
              "      <td>1.0</td>\n",
              "      <td>9.076623</td>\n",
              "      <td>0</td>\n",
              "      <td>1.725189</td>\n",
              "      <td>5.0</td>\n",
              "      <td>1.0</td>\n",
              "      <td>1</td>\n",
              "    </tr>\n",
              "  </tbody>\n",
              "</table>\n",
              "</div>"
            ],
            "text/plain": [
              "   Community   Age  Weight  ...  Education  Residence  Result\n",
              "0          3  23.0    44.0  ...        5.0        1.0       1\n",
              "1          4  21.0    55.0  ...        5.0        2.0       1\n",
              "2          1  21.0    50.0  ...        5.0        1.0       1\n",
              "3          1  25.0    52.0  ...        5.0        1.0       1\n",
              "4          1  26.0    44.0  ...        5.0        1.0       1\n",
              "\n",
              "[5 rows x 10 columns]"
            ]
          },
          "metadata": {
            "tags": []
          },
          "execution_count": 93
        }
      ]
    },
    {
      "cell_type": "code",
      "metadata": {
        "id": "S5En5Ic_VdO4",
        "outputId": "d4f12a6c-db3d-4d64-a146-72d04b8ca0a6",
        "colab": {
          "base_uri": "https://localhost:8080/"
        }
      },
      "source": [
        "df = balanced\n",
        "balanced.shape"
      ],
      "execution_count": null,
      "outputs": [
        {
          "output_type": "execute_result",
          "data": {
            "text/plain": [
              "(60, 10)"
            ]
          },
          "metadata": {
            "tags": []
          },
          "execution_count": 94
        }
      ]
    },
    {
      "cell_type": "code",
      "metadata": {
        "id": "m2oCf4HSVVff"
      },
      "source": [
        "data = []\n",
        "\n",
        "\n",
        "for i in range(len(df)):\n",
        "    data.append({\n",
        "            # \"evidence\": [int(df.iloc[i,0]), int(df.iloc[i,1]), int(df.iloc[i,2]), int(df.iloc[i,3]), float(df.iloc[i,4]), int(df.iloc[i,5]), float(df.iloc[i, 6]), int(df.iloc[i,7]), int(df.iloc[i, 8])],\n",
        "            \"evidence\": [int(df.iloc[i,0]), int(df.iloc[i,1]), float(df.iloc[i,2]), int(df.iloc[i,3]), float(df.iloc[i,4]), int(df.iloc[i,5]), float(df.iloc[i, 6]), int(df.iloc[i, 8])],\n",
        "            \"label\": int(df.iloc[i,9])\n",
        "        })"
      ],
      "execution_count": null,
      "outputs": []
    },
    {
      "cell_type": "code",
      "metadata": {
        "id": "2VafWAwLPbl9"
      },
      "source": [
        "# ax1 = df.plot.scatter(x='Result',\n",
        "#                       y='Delivery phase',  # 'Age' 'Community' 'Delivery phase' 'Weight' 'HB' 'IFA' 'BP'\n",
        "#                       c='DarkBlue')"
      ],
      "execution_count": null,
      "outputs": []
    },
    {
      "cell_type": "code",
      "metadata": {
        "id": "4c3BcHV12JOr",
        "outputId": "e0c79da0-91a8-4ee0-e3d8-6e9f728908d4",
        "colab": {
          "base_uri": "https://localhost:8080/"
        }
      },
      "source": [
        "df['Community'].unique()  # df['Delivery phase'].unique()"
      ],
      "execution_count": null,
      "outputs": [
        {
          "output_type": "execute_result",
          "data": {
            "text/plain": [
              "array([3, 4, 1, 2])"
            ]
          },
          "metadata": {
            "tags": []
          },
          "execution_count": 117
        }
      ]
    },
    {
      "cell_type": "code",
      "metadata": {
        "id": "o6GC5CfK1zjs",
        "outputId": "3851057d-81e6-4a3d-849c-3af19b224c5c",
        "colab": {
          "base_uri": "https://localhost:8080/",
          "height": 142
        }
      },
      "source": [
        "df.loc[df['Delivery phase'] == 1].groupby('Result').count()"
      ],
      "execution_count": null,
      "outputs": [
        {
          "output_type": "execute_result",
          "data": {
            "text/html": [
              "<div>\n",
              "<style scoped>\n",
              "    .dataframe tbody tr th:only-of-type {\n",
              "        vertical-align: middle;\n",
              "    }\n",
              "\n",
              "    .dataframe tbody tr th {\n",
              "        vertical-align: top;\n",
              "    }\n",
              "\n",
              "    .dataframe thead th {\n",
              "        text-align: right;\n",
              "    }\n",
              "</style>\n",
              "<table border=\"1\" class=\"dataframe\">\n",
              "  <thead>\n",
              "    <tr style=\"text-align: right;\">\n",
              "      <th></th>\n",
              "      <th>Community</th>\n",
              "      <th>Age</th>\n",
              "      <th>Weight</th>\n",
              "      <th>Delivery phase</th>\n",
              "      <th>HB</th>\n",
              "      <th>IFA</th>\n",
              "      <th>BP</th>\n",
              "      <th>Education</th>\n",
              "      <th>Residence</th>\n",
              "    </tr>\n",
              "    <tr>\n",
              "      <th>Result</th>\n",
              "      <th></th>\n",
              "      <th></th>\n",
              "      <th></th>\n",
              "      <th></th>\n",
              "      <th></th>\n",
              "      <th></th>\n",
              "      <th></th>\n",
              "      <th></th>\n",
              "      <th></th>\n",
              "    </tr>\n",
              "  </thead>\n",
              "  <tbody>\n",
              "    <tr>\n",
              "      <th>0</th>\n",
              "      <td>23</td>\n",
              "      <td>23</td>\n",
              "      <td>23</td>\n",
              "      <td>23</td>\n",
              "      <td>23</td>\n",
              "      <td>23</td>\n",
              "      <td>23</td>\n",
              "      <td>23</td>\n",
              "      <td>23</td>\n",
              "    </tr>\n",
              "    <tr>\n",
              "      <th>1</th>\n",
              "      <td>35</td>\n",
              "      <td>35</td>\n",
              "      <td>35</td>\n",
              "      <td>35</td>\n",
              "      <td>35</td>\n",
              "      <td>35</td>\n",
              "      <td>35</td>\n",
              "      <td>35</td>\n",
              "      <td>35</td>\n",
              "    </tr>\n",
              "  </tbody>\n",
              "</table>\n",
              "</div>"
            ],
            "text/plain": [
              "        Community  Age  Weight  Delivery phase  ...  IFA  BP  Education  Residence\n",
              "Result                                          ...                               \n",
              "0              23   23      23              23  ...   23  23         23         23\n",
              "1              35   35      35              35  ...   35  35         35         35\n",
              "\n",
              "[2 rows x 9 columns]"
            ]
          },
          "metadata": {
            "tags": []
          },
          "execution_count": 115
        }
      ]
    },
    {
      "cell_type": "code",
      "metadata": {
        "id": "9sBbEvjJ2eza",
        "outputId": "6f2a6dba-f70a-4694-9e2b-dc927722284f",
        "colab": {
          "base_uri": "https://localhost:8080/",
          "height": 142
        }
      },
      "source": [
        "df.loc[df['Delivery phase'] == 2].groupby('Result').count()"
      ],
      "execution_count": null,
      "outputs": [
        {
          "output_type": "execute_result",
          "data": {
            "text/html": [
              "<div>\n",
              "<style scoped>\n",
              "    .dataframe tbody tr th:only-of-type {\n",
              "        vertical-align: middle;\n",
              "    }\n",
              "\n",
              "    .dataframe tbody tr th {\n",
              "        vertical-align: top;\n",
              "    }\n",
              "\n",
              "    .dataframe thead th {\n",
              "        text-align: right;\n",
              "    }\n",
              "</style>\n",
              "<table border=\"1\" class=\"dataframe\">\n",
              "  <thead>\n",
              "    <tr style=\"text-align: right;\">\n",
              "      <th></th>\n",
              "      <th>Community</th>\n",
              "      <th>Age</th>\n",
              "      <th>Weight</th>\n",
              "      <th>Delivery phase</th>\n",
              "      <th>HB</th>\n",
              "      <th>IFA</th>\n",
              "      <th>BP</th>\n",
              "      <th>Education</th>\n",
              "      <th>Residence</th>\n",
              "    </tr>\n",
              "    <tr>\n",
              "      <th>Result</th>\n",
              "      <th></th>\n",
              "      <th></th>\n",
              "      <th></th>\n",
              "      <th></th>\n",
              "      <th></th>\n",
              "      <th></th>\n",
              "      <th></th>\n",
              "      <th></th>\n",
              "      <th></th>\n",
              "    </tr>\n",
              "  </thead>\n",
              "  <tbody>\n",
              "    <tr>\n",
              "      <th>0</th>\n",
              "      <td>1</td>\n",
              "      <td>1</td>\n",
              "      <td>1</td>\n",
              "      <td>1</td>\n",
              "      <td>1</td>\n",
              "      <td>1</td>\n",
              "      <td>1</td>\n",
              "      <td>1</td>\n",
              "      <td>1</td>\n",
              "    </tr>\n",
              "    <tr>\n",
              "      <th>1</th>\n",
              "      <td>1</td>\n",
              "      <td>1</td>\n",
              "      <td>1</td>\n",
              "      <td>1</td>\n",
              "      <td>1</td>\n",
              "      <td>1</td>\n",
              "      <td>1</td>\n",
              "      <td>1</td>\n",
              "      <td>1</td>\n",
              "    </tr>\n",
              "  </tbody>\n",
              "</table>\n",
              "</div>"
            ],
            "text/plain": [
              "        Community  Age  Weight  Delivery phase  ...  IFA  BP  Education  Residence\n",
              "Result                                          ...                               \n",
              "0               1    1       1               1  ...    1   1          1          1\n",
              "1               1    1       1               1  ...    1   1          1          1\n",
              "\n",
              "[2 rows x 9 columns]"
            ]
          },
          "metadata": {
            "tags": []
          },
          "execution_count": 116
        }
      ]
    },
    {
      "cell_type": "code",
      "metadata": {
        "id": "QP0LAKio2jlT",
        "outputId": "72fc5a68-9163-428c-9415-69e5d858881d",
        "colab": {
          "base_uri": "https://localhost:8080/",
          "height": 142
        }
      },
      "source": [
        "df.loc[df['Community'] == 4].groupby('Result').count()"
      ],
      "execution_count": null,
      "outputs": [
        {
          "output_type": "execute_result",
          "data": {
            "text/html": [
              "<div>\n",
              "<style scoped>\n",
              "    .dataframe tbody tr th:only-of-type {\n",
              "        vertical-align: middle;\n",
              "    }\n",
              "\n",
              "    .dataframe tbody tr th {\n",
              "        vertical-align: top;\n",
              "    }\n",
              "\n",
              "    .dataframe thead th {\n",
              "        text-align: right;\n",
              "    }\n",
              "</style>\n",
              "<table border=\"1\" class=\"dataframe\">\n",
              "  <thead>\n",
              "    <tr style=\"text-align: right;\">\n",
              "      <th></th>\n",
              "      <th>Community</th>\n",
              "      <th>Age</th>\n",
              "      <th>Weight</th>\n",
              "      <th>Delivery phase</th>\n",
              "      <th>HB</th>\n",
              "      <th>IFA</th>\n",
              "      <th>BP</th>\n",
              "      <th>Education</th>\n",
              "      <th>Residence</th>\n",
              "    </tr>\n",
              "    <tr>\n",
              "      <th>Result</th>\n",
              "      <th></th>\n",
              "      <th></th>\n",
              "      <th></th>\n",
              "      <th></th>\n",
              "      <th></th>\n",
              "      <th></th>\n",
              "      <th></th>\n",
              "      <th></th>\n",
              "      <th></th>\n",
              "    </tr>\n",
              "  </thead>\n",
              "  <tbody>\n",
              "    <tr>\n",
              "      <th>0</th>\n",
              "      <td>4</td>\n",
              "      <td>4</td>\n",
              "      <td>4</td>\n",
              "      <td>4</td>\n",
              "      <td>4</td>\n",
              "      <td>4</td>\n",
              "      <td>4</td>\n",
              "      <td>4</td>\n",
              "      <td>4</td>\n",
              "    </tr>\n",
              "    <tr>\n",
              "      <th>1</th>\n",
              "      <td>7</td>\n",
              "      <td>7</td>\n",
              "      <td>7</td>\n",
              "      <td>7</td>\n",
              "      <td>7</td>\n",
              "      <td>7</td>\n",
              "      <td>7</td>\n",
              "      <td>7</td>\n",
              "      <td>7</td>\n",
              "    </tr>\n",
              "  </tbody>\n",
              "</table>\n",
              "</div>"
            ],
            "text/plain": [
              "        Community  Age  Weight  Delivery phase  ...  IFA  BP  Education  Residence\n",
              "Result                                          ...                               \n",
              "0               4    4       4               4  ...    4   4          4          4\n",
              "1               7    7       7               7  ...    7   7          7          7\n",
              "\n",
              "[2 rows x 9 columns]"
            ]
          },
          "metadata": {
            "tags": []
          },
          "execution_count": 121
        }
      ]
    },
    {
      "cell_type": "code",
      "metadata": {
        "id": "f3aFhkFhL7fE",
        "outputId": "e7187d55-bbec-4df2-da32-4649a92ea8cd",
        "colab": {
          "base_uri": "https://localhost:8080/"
        }
      },
      "source": [
        "# data"
      ],
      "execution_count": null,
      "outputs": [
        {
          "output_type": "execute_result",
          "data": {
            "text/plain": [
              "[{'evidence': [3, 23, 44.0, 1, 10.4, 1, 1.375, 1], 'label': 1},\n",
              " {'evidence': [4, 21, 55.0, 1, 8.0, 1, 1.571428571, 2], 'label': 1},\n",
              " {'evidence': [1, 21, 50.0, 1, 9.2, 1, 1.625, 1], 'label': 1},\n",
              " {'evidence': [1, 25, 52.0, 1, 9.076623376623376, 0, 1.725189285259259, 1],\n",
              "  'label': 1},\n",
              " {'evidence': [1, 26, 44.0, 1, 9.076623376623376, 0, 1.725189285259259, 1],\n",
              "  'label': 1},\n",
              " {'evidence': [3, 27, 45.0, 1, 9.076623376623376, 0, 1.5, 1], 'label': 1},\n",
              " {'evidence': [1, 26, 43.0, 1, 9.0, 1, 1.375, 1], 'label': 1},\n",
              " {'evidence': [4, 21, 48.0, 1, 9.2, 1, 1.375, 1], 'label': 1},\n",
              " {'evidence': [1, 24, 48.0, 1, 9.6, 1, 1.571428571, 1], 'label': 1},\n",
              " {'evidence': [1, 25, 50.0, 1, 5.9, 1, 1.428571429, 2], 'label': 1},\n",
              " {'evidence': [1, 24, 40.0, 1, 9.5, 1, 1.714285714, 1], 'label': 1},\n",
              " {'evidence': [1, 24, 39.0, 1, 8.9, 1, 1.375, 1], 'label': 1},\n",
              " {'evidence': [1, 24, 48.0, 1, 9.0, 1, 1.375, 1], 'label': 1},\n",
              " {'evidence': [1, 21, 40.0, 1, 9.2, 1, 1.571, 1], 'label': 1},\n",
              " {'evidence': [3, 20, 43.0, 1, 9.2, 1, 1.375, 1], 'label': 1},\n",
              " {'evidence': [4, 26, 42.0, 1, 9.2, 1, 1.375, 1], 'label': 1},\n",
              " {'evidence': [3, 23, 39.0, 1, 9.076623376623376, 0, 1.725189285259259, 1],\n",
              "  'label': 1},\n",
              " {'evidence': [1, 25, 40.0, 1, 9.2, 1, 1.375, 1], 'label': 1},\n",
              " {'evidence': [4, 27, 49.0, 1, 9.4, 1, 1.6666666669999999, 1], 'label': 1},\n",
              " {'evidence': [3, 21, 64.0, 1, 8.8, 1, 1.666, 1], 'label': 1},\n",
              " {'evidence': [1, 24, 49.0, 1, 8.9, 1, 1.333333333, 1], 'label': 1},\n",
              " {'evidence': [4, 26, 65.0, 1, 9.0, 1, 1.375, 2], 'label': 1},\n",
              " {'evidence': [2, 22, 40.0, 1, 8.9, 1, 1.375, 1], 'label': 1},\n",
              " {'evidence': [3, 24, 40.0, 1, 9.076623376623376, 0, 1.725189285259259, 1],\n",
              "  'label': 1},\n",
              " {'evidence': [3, 21, 40.0, 1, 9.0, 1, 1.375, 1], 'label': 1},\n",
              " {'evidence': [3, 21, 43.0, 1, 9.0, 1, 1.375, 1], 'label': 1},\n",
              " {'evidence': [4, 22, 50.0, 1, 9.2, 1, 1.571, 1], 'label': 1},\n",
              " {'evidence': [3, 24, 60.0, 1, 9.2, 1, 1.714285714, 1], 'label': 1},\n",
              " {'evidence': [3, 21, 48.0, 1, 9.076623376623376, 0, 1.725189285259259, 1],\n",
              "  'label': 1},\n",
              " {'evidence': [3, 21, 55.0, 1, 9.0, 0, 1.375, 1], 'label': 1},\n",
              " {'evidence': [4, 26, 52.0, 1, 8.4, 1, 1.375, 1], 'label': 1},\n",
              " {'evidence': [3, 24, 46.0, 1, 6.2, 1, 1.714285714, 1], 'label': 1},\n",
              " {'evidence': [3, 24, 39.0, 2, 8.4, 0, 1.5, 1], 'label': 1},\n",
              " {'evidence': [1, 24, 40.0, 1, 8.7, 1, 1.714285714, 1], 'label': 1},\n",
              " {'evidence': [3, 25, 49.0, 1, 9.1, 0, 1.571428571, 1], 'label': 1},\n",
              " {'evidence': [1, 24, 40.0, 1, 9.2, 1, 1.8333333330000001, 1], 'label': 1},\n",
              " {'evidence': [1, 21, 45.129411764705885, 1, 9.4, 1, 1.5, 1], 'label': 0},\n",
              " {'evidence': [1, 26, 35.0, 1, 9.2, 1, 1.571428571, 1], 'label': 0},\n",
              " {'evidence': [1, 22, 30.0, 1, 9.076623376623376, 1, 1.725189285259259, 1],\n",
              "  'label': 0},\n",
              " {'evidence': [3, 26, 45.129411764705885, 1, 9.076623376623376, 0, 5.5, 1],\n",
              "  'label': 0},\n",
              " {'evidence': [4, 17, 30.0, 1, 9.0, 0, 1.375, 1], 'label': 0},\n",
              " {'evidence': [3, 24, 38.0, 1, 9.076623376623376, 0, 1.725189285259259, 1],\n",
              "  'label': 0},\n",
              " {'evidence': [3, 38, 33.0, 1, 10.0, 0, 1.571428571, 1], 'label': 0},\n",
              " {'evidence': [3, 23, 39.0, 1, 9.0, 1, 1.375, 1], 'label': 0},\n",
              " {'evidence': [1, 21, 40.0, 1, 9.076623376623376, 0, 1.725189285259259, 1],\n",
              "  'label': 0},\n",
              " {'evidence': [1, 24, 33.0, 1, 9.3, 1, 1.571, 1], 'label': 0},\n",
              " {'evidence': [3, 20, 45.129411764705885, 1, 8.9, 0, 1.714285714, 2],\n",
              "  'label': 0},\n",
              " {'evidence': [1, 21, 45.129411764705885, 1, 9.2, 1, 2.125, 1], 'label': 0},\n",
              " {'evidence': [1, 25, 45.0, 2, 9.076623376623376, 0, 1.725189285259259, 1],\n",
              "  'label': 0},\n",
              " {'evidence': [3, 24, 40.0, 1, 9.0, 1, 1.725189285259259, 1], 'label': 0},\n",
              " {'evidence': [1, 27, 45.129411764705885, 1, 8.0, 1, 1.571428571, 1],\n",
              "  'label': 0},\n",
              " {'evidence': [1, 21, 45.129411764705885, 1, 8.0, 1, 1.375, 1], 'label': 0},\n",
              " {'evidence': [1, 21, 45.129411764705885, 1, 8.8, 1, 1.5, 1], 'label': 0},\n",
              " {'evidence': [4, 24, 45.129411764705885, 1, 9.0, 0, 1.6615384619999998, 1],\n",
              "  'label': 0},\n",
              " {'evidence': [3, 35, 45.129411764705885, 1, 9.9, 1, 1.571428571, 1],\n",
              "  'label': 0},\n",
              " {'evidence': [1, 21, 32.0, 1, 9.076623376623376, 0, 1.725189285259259, 1],\n",
              "  'label': 0},\n",
              " {'evidence': [1, 24, 45.129411764705885, 1, 9.6, 0, 1.2, 1], 'label': 0},\n",
              " {'evidence': [4, 26, 31.0, 1, 9.076623376623376, 1, 1.625, 1], 'label': 0},\n",
              " {'evidence': [4,\n",
              "   20,\n",
              "   45.129411764705885,\n",
              "   1,\n",
              "   9.076623376623376,\n",
              "   0,\n",
              "   1.725189285259259,\n",
              "   2],\n",
              "  'label': 0},\n",
              " {'evidence': [1, 21, 42.0, 1, 9.2, 1, 1.375, 1], 'label': 0}]"
            ]
          },
          "metadata": {
            "tags": []
          },
          "execution_count": 109
        }
      ]
    },
    {
      "cell_type": "code",
      "metadata": {
        "id": "d82rKtpyEdjW"
      },
      "source": [
        "# Separate data into training and testing groups\n",
        "\n",
        "evidence = [row[\"evidence\"] for row in data]\n",
        "labels = [row[\"label\"] for row in data]\n",
        "X_training, X_testing, y_training, y_testing = train_test_split(\n",
        "    evidence, labels, test_size=0.25, random_state=42, stratify=labels\n",
        ")"
      ],
      "execution_count": null,
      "outputs": []
    },
    {
      "cell_type": "code",
      "metadata": {
        "id": "l-hIBsD7TnPp",
        "outputId": "3c3def43-c2df-4ea1-9dd2-ecd049bda0a1",
        "colab": {
          "base_uri": "https://localhost:8080/"
        }
      },
      "source": [
        "sum([1 for x in y_training if x == 1]), sum([1 for x in y_training if x == 0])"
      ],
      "execution_count": null,
      "outputs": [
        {
          "output_type": "execute_result",
          "data": {
            "text/plain": [
              "(27, 18)"
            ]
          },
          "metadata": {
            "tags": []
          },
          "execution_count": 99
        }
      ]
    },
    {
      "cell_type": "code",
      "metadata": {
        "id": "Qy524FmkEqvg"
      },
      "source": [
        "# Create a neural network\n",
        "model = tf.keras.models.Sequential([\n",
        "\n",
        "    # tf.keras.layers.Dense(10, input_shape=(9,)),\n",
        "    # tf.keras.layers.LeakyReLU(alpha=0.1),\n",
        "    # tf.keras.layers.Dropout(0.25),\n",
        "\n",
        "    # tf.keras.layers.Dense(5, input_shape=(16,)),\n",
        "    # tf.keras.layers.LeakyReLU(alpha=0.1),\n",
        "    # tf.keras.layers.Dropout(0.25),\n",
        "\n",
        "    layers.Dense(8, activation=\"relu\", name=\"layer1\"),\n",
        "    layers.Dropout(0.1),\n",
        "    layers.Dense(2, activation=\"relu\", name=\"layer2\"),\n",
        "    layers.Dropout(0.1),\n",
        "    layers.Dense(1, activation=\"softmax\", name=\"layer3\")\n",
        "])"
      ],
      "execution_count": null,
      "outputs": []
    },
    {
      "cell_type": "code",
      "metadata": {
        "id": "gDIHzgKA0R-y"
      },
      "source": [
        "# Define our custom loss function\n",
        "def focal_loss(y_true, y_pred):\n",
        "    gamma = 1\n",
        "    alpha = 0.1\n",
        "    pt_1 = tf.where(tf.equal(y_true, 1), y_pred, tf.ones_like(y_pred))\n",
        "    pt_0 = tf.where(tf.equal(y_true, 0), y_pred, tf.zeros_like(y_pred))\n",
        "    return -K.sum(alpha * K.pow(1. - pt_1, gamma) * K.log(pt_1))-K.sum((1-alpha) * K.pow( pt_0, gamma) * K.log(1. - pt_0))\n",
        "\n",
        "# Compile our model\n",
        "adam = tf.keras.optimizers.Adam(lr=0.01)\n",
        "model.compile(loss=[focal_loss], metrics=[\"accuracy\"], optimizer=adam) "
      ],
      "execution_count": null,
      "outputs": []
    },
    {
      "cell_type": "code",
      "metadata": {
        "id": "PM4gs8MeEsNy"
      },
      "source": [
        "# opt = tf.keras.optimizers.SGD(lr=0.01, decay=1e-6, momentum=0.9, nesterov=True)\n",
        "# # opt = tf.keras.optimizers.Adam(learning_rate=0.05)\n",
        "\n",
        "# # Train neural network\n",
        "# model.compile(\n",
        "#     optimizer= opt,\n",
        "#     loss=\"binary_crossentropy\",\n",
        "#     metrics=[\"accuracy\"]\n",
        "# )"
      ],
      "execution_count": null,
      "outputs": []
    },
    {
      "cell_type": "code",
      "metadata": {
        "id": "81tVKJ6QEsvK",
        "outputId": "9c206a08-8ee4-4f91-e47f-4a2f7fcd1db0",
        "colab": {
          "base_uri": "https://localhost:8080/"
        }
      },
      "source": [
        "model.fit(X_training, y_training, epochs=10)"
      ],
      "execution_count": null,
      "outputs": [
        {
          "output_type": "stream",
          "text": [
            "Epoch 1/10\n",
            "2/2 [==============================] - 0s 3ms/step - loss: nan - accuracy: 0.6667\n",
            "Epoch 2/10\n",
            "2/2 [==============================] - 0s 2ms/step - loss: nan - accuracy: 0.4000\n",
            "Epoch 3/10\n",
            "2/2 [==============================] - 0s 2ms/step - loss: nan - accuracy: 0.4000\n",
            "Epoch 4/10\n",
            "2/2 [==============================] - 0s 3ms/step - loss: nan - accuracy: 0.4000\n",
            "Epoch 5/10\n",
            "2/2 [==============================] - 0s 1ms/step - loss: nan - accuracy: 0.4000\n",
            "Epoch 6/10\n",
            "2/2 [==============================] - 0s 2ms/step - loss: nan - accuracy: 0.4000\n",
            "Epoch 7/10\n",
            "2/2 [==============================] - 0s 2ms/step - loss: nan - accuracy: 0.4000\n",
            "Epoch 8/10\n",
            "2/2 [==============================] - 0s 3ms/step - loss: nan - accuracy: 0.4000\n",
            "Epoch 9/10\n",
            "2/2 [==============================] - 0s 3ms/step - loss: nan - accuracy: 0.4000\n",
            "Epoch 10/10\n",
            "2/2 [==============================] - 0s 3ms/step - loss: nan - accuracy: 0.4000\n"
          ],
          "name": "stdout"
        },
        {
          "output_type": "execute_result",
          "data": {
            "text/plain": [
              "<tensorflow.python.keras.callbacks.History at 0x7fb040b272b0>"
            ]
          },
          "metadata": {
            "tags": []
          },
          "execution_count": 103
        }
      ]
    },
    {
      "cell_type": "code",
      "metadata": {
        "id": "vrLtfTGyEubQ",
        "outputId": "7b30ebfa-fc8f-4144-ae4a-2475dc8358ef",
        "colab": {
          "base_uri": "https://localhost:8080/"
        }
      },
      "source": [
        "# Evaluate how well model performs\n",
        "model.evaluate(X_testing, y_testing, verbose=2)"
      ],
      "execution_count": null,
      "outputs": [
        {
          "output_type": "stream",
          "text": [
            "WARNING:tensorflow:6 out of the last 6 calls to <function Model.make_test_function.<locals>.test_function at 0x7fb03f0da268> triggered tf.function retracing. Tracing is expensive and the excessive number of tracings could be due to (1) creating @tf.function repeatedly in a loop, (2) passing tensors with different shapes, (3) passing Python objects instead of tensors. For (1), please define your @tf.function outside of the loop. For (2), @tf.function has experimental_relax_shapes=True option that relaxes argument shapes that can avoid unnecessary retracing. For (3), please refer to https://www.tensorflow.org/tutorials/customization/performance#python_or_tensor_args and https://www.tensorflow.org/api_docs/python/tf/function for  more details.\n",
            "1/1 - 0s - loss: nan - accuracy: 0.4000\n"
          ],
          "name": "stdout"
        },
        {
          "output_type": "execute_result",
          "data": {
            "text/plain": [
              "[nan, 0.4000000059604645]"
            ]
          },
          "metadata": {
            "tags": []
          },
          "execution_count": 104
        }
      ]
    },
    {
      "cell_type": "code",
      "metadata": {
        "id": "d1ghPIrEHj3e",
        "outputId": "1d6ce2cb-eee9-4a9c-fdb3-f8ce5feade8d",
        "colab": {
          "base_uri": "https://localhost:8080/"
        }
      },
      "source": [
        "ynew = model.predict_classes(X_testing)"
      ],
      "execution_count": null,
      "outputs": [
        {
          "output_type": "stream",
          "text": [
            "WARNING:tensorflow:6 out of the last 6 calls to <function Model.make_predict_function.<locals>.predict_function at 0x7fb03e8b2620> triggered tf.function retracing. Tracing is expensive and the excessive number of tracings could be due to (1) creating @tf.function repeatedly in a loop, (2) passing tensors with different shapes, (3) passing Python objects instead of tensors. For (1), please define your @tf.function outside of the loop. For (2), @tf.function has experimental_relax_shapes=True option that relaxes argument shapes that can avoid unnecessary retracing. For (3), please refer to https://www.tensorflow.org/tutorials/customization/performance#python_or_tensor_args and https://www.tensorflow.org/api_docs/python/tf/function for  more details.\n"
          ],
          "name": "stdout"
        },
        {
          "output_type": "stream",
          "text": [
            "/usr/local/lib/python3.6/dist-packages/tensorflow/python/keras/engine/sequential.py:457: RuntimeWarning: invalid value encountered in greater\n",
            "  return (proba > 0.5).astype('int32')\n"
          ],
          "name": "stderr"
        }
      ]
    },
    {
      "cell_type": "code",
      "metadata": {
        "id": "_XL-PZAFTET4",
        "outputId": "690336cd-5746-4766-c982-b70968cc188d",
        "colab": {
          "base_uri": "https://localhost:8080/"
        }
      },
      "source": [
        "ynew"
      ],
      "execution_count": null,
      "outputs": [
        {
          "output_type": "execute_result",
          "data": {
            "text/plain": [
              "array([[0],\n",
              "       [0],\n",
              "       [0],\n",
              "       [0],\n",
              "       [0],\n",
              "       [0],\n",
              "       [0],\n",
              "       [0],\n",
              "       [0],\n",
              "       [0],\n",
              "       [0],\n",
              "       [0],\n",
              "       [0],\n",
              "       [0],\n",
              "       [0]], dtype=int32)"
            ]
          },
          "metadata": {
            "tags": []
          },
          "execution_count": 106
        }
      ]
    },
    {
      "cell_type": "code",
      "metadata": {
        "id": "yHO2r3WeTG7v",
        "outputId": "9c210a97-b9c5-4995-823e-5b99820a89dc",
        "colab": {
          "base_uri": "https://localhost:8080/"
        }
      },
      "source": [
        "y_testing"
      ],
      "execution_count": null,
      "outputs": [
        {
          "output_type": "execute_result",
          "data": {
            "text/plain": [
              "[0, 1, 1, 0, 1, 1, 1, 0, 0, 1, 1, 1, 1, 0, 0]"
            ]
          },
          "metadata": {
            "tags": []
          },
          "execution_count": 107
        }
      ]
    },
    {
      "cell_type": "code",
      "metadata": {
        "id": "NuSBaTTbTJDP",
        "outputId": "54a0429b-c632-4697-a45e-14c18ab4d4e8",
        "colab": {
          "base_uri": "https://localhost:8080/"
        }
      },
      "source": [
        "tf.math.confusion_matrix(y_testing, ynew, 2)"
      ],
      "execution_count": null,
      "outputs": [
        {
          "output_type": "execute_result",
          "data": {
            "text/plain": [
              "<tf.Tensor: shape=(2, 2), dtype=int32, numpy=\n",
              "array([[6, 0],\n",
              "       [9, 0]], dtype=int32)>"
            ]
          },
          "metadata": {
            "tags": []
          },
          "execution_count": 108
        }
      ]
    },
    {
      "cell_type": "code",
      "metadata": {
        "id": "zHiYLWiiTVY8"
      },
      "source": [
        ""
      ],
      "execution_count": null,
      "outputs": []
    }
  ]
}